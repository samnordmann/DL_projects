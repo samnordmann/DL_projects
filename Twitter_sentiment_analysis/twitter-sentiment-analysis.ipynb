{
 "cells": [
  {
   "cell_type": "markdown",
   "id": "fe4048f6",
   "metadata": {
    "papermill": {
     "duration": 0.018791,
     "end_time": "2022-03-28T14:10:02.534720",
     "exception": false,
     "start_time": "2022-03-28T14:10:02.515929",
     "status": "completed"
    },
    "tags": []
   },
   "source": [
    "In this notebook, we propose a simple but original implementation from scratch of an text classifier on a Twitter sentiment dataset. The goal is to detect hate tweets. The dataset is composed of +16k tweets belonging to 2 different classes.\n",
    "\n",
    "\n",
    "Our model uses the glove6b embedding of words followed by a Bidirectional LSTM and Dense layers.\n",
    "The performance of our algorithm is computed in the last cell of the notebook."
   ]
  },
  {
   "cell_type": "code",
   "execution_count": 1,
   "id": "5403755d",
   "metadata": {
    "execution": {
     "iopub.execute_input": "2022-03-28T14:10:02.582707Z",
     "iopub.status.busy": "2022-03-28T14:10:02.581925Z",
     "iopub.status.idle": "2022-03-28T14:10:09.264099Z",
     "shell.execute_reply": "2022-03-28T14:10:09.264552Z",
     "shell.execute_reply.started": "2022-03-28T12:55:20.112172Z"
    },
    "papermill": {
     "duration": 6.711589,
     "end_time": "2022-03-28T14:10:09.264796",
     "exception": false,
     "start_time": "2022-03-28T14:10:02.553207",
     "status": "completed"
    },
    "tags": []
   },
   "outputs": [
    {
     "name": "stdout",
     "output_type": "stream",
     "text": [
      "[nltk_data] Downloading package stopwords to /usr/share/nltk_data...\n",
      "[nltk_data]   Package stopwords is already up-to-date!\n",
      "2.6.2\n"
     ]
    }
   ],
   "source": [
    "import numpy as np\n",
    "import pandas as pd\n",
    "import tensorflow as tf\n",
    "import tensorflow.keras.utils as ku \n",
    "import tensorflow_hub as hub\n",
    "\n",
    "from tensorflow.keras.models import Sequential\n",
    "from tensorflow.keras import regularizers\n",
    "from tensorflow.keras.layers import Embedding, LSTM, Dense, Dropout, Bidirectional\n",
    "from tensorflow.keras.preprocessing.text import Tokenizer\n",
    "from tensorflow.keras.preprocessing.sequence import pad_sequences\n",
    "\n",
    "from sklearn.utils import class_weight\n",
    "\n",
    "import re\n",
    "import nltk\n",
    "from nltk.stem.porter import PorterStemmer\n",
    "from nltk.corpus import stopwords\n",
    "nltk.download('stopwords')\n",
    "stop_words = set(stopwords.words('english'))\n",
    "\n",
    "\n",
    "print(tf.__version__)"
   ]
  },
  {
   "cell_type": "markdown",
   "id": "b0d02da8",
   "metadata": {
    "papermill": {
     "duration": 0.017988,
     "end_time": "2022-03-28T14:10:09.301603",
     "exception": false,
     "start_time": "2022-03-28T14:10:09.283615",
     "status": "completed"
    },
    "tags": []
   },
   "source": [
    "Let us load the dataset:"
   ]
  },
  {
   "cell_type": "code",
   "execution_count": 2,
   "id": "563ee39a",
   "metadata": {
    "execution": {
     "iopub.execute_input": "2022-03-28T14:10:09.341788Z",
     "iopub.status.busy": "2022-03-28T14:10:09.341283Z",
     "iopub.status.idle": "2022-03-28T14:10:09.506352Z",
     "shell.execute_reply": "2022-03-28T14:10:09.505862Z",
     "shell.execute_reply.started": "2022-03-28T12:55:29.064106Z"
    },
    "papermill": {
     "duration": 0.186784,
     "end_time": "2022-03-28T14:10:09.506475",
     "exception": false,
     "start_time": "2022-03-28T14:10:09.319691",
     "status": "completed"
    },
    "tags": []
   },
   "outputs": [],
   "source": [
    "data=pd.read_csv('../input/twitter-sentiment-analysis-hatred-speech/train.csv',\n",
    "                 index_col= \"id\")"
   ]
  },
  {
   "cell_type": "markdown",
   "id": "e9076f4f",
   "metadata": {
    "papermill": {
     "duration": 0.017996,
     "end_time": "2022-03-28T14:10:09.542915",
     "exception": false,
     "start_time": "2022-03-28T14:10:09.524919",
     "status": "completed"
    },
    "tags": []
   },
   "source": [
    "and explore the first rows:"
   ]
  },
  {
   "cell_type": "code",
   "execution_count": 3,
   "id": "86415b9f",
   "metadata": {
    "execution": {
     "iopub.execute_input": "2022-03-28T14:10:09.584681Z",
     "iopub.status.busy": "2022-03-28T14:10:09.581317Z",
     "iopub.status.idle": "2022-03-28T14:10:09.593412Z",
     "shell.execute_reply": "2022-03-28T14:10:09.593853Z",
     "shell.execute_reply.started": "2022-03-28T12:55:29.236122Z"
    },
    "papermill": {
     "duration": 0.03296,
     "end_time": "2022-03-28T14:10:09.593974",
     "exception": false,
     "start_time": "2022-03-28T14:10:09.561014",
     "status": "completed"
    },
    "tags": []
   },
   "outputs": [
    {
     "data": {
      "text/html": [
       "<div>\n",
       "<style scoped>\n",
       "    .dataframe tbody tr th:only-of-type {\n",
       "        vertical-align: middle;\n",
       "    }\n",
       "\n",
       "    .dataframe tbody tr th {\n",
       "        vertical-align: top;\n",
       "    }\n",
       "\n",
       "    .dataframe thead th {\n",
       "        text-align: right;\n",
       "    }\n",
       "</style>\n",
       "<table border=\"1\" class=\"dataframe\">\n",
       "  <thead>\n",
       "    <tr style=\"text-align: right;\">\n",
       "      <th></th>\n",
       "      <th>label</th>\n",
       "      <th>tweet</th>\n",
       "    </tr>\n",
       "    <tr>\n",
       "      <th>id</th>\n",
       "      <th></th>\n",
       "      <th></th>\n",
       "    </tr>\n",
       "  </thead>\n",
       "  <tbody>\n",
       "    <tr>\n",
       "      <th>1</th>\n",
       "      <td>0</td>\n",
       "      <td>@user when a father is dysfunctional and is s...</td>\n",
       "    </tr>\n",
       "    <tr>\n",
       "      <th>2</th>\n",
       "      <td>0</td>\n",
       "      <td>@user @user thanks for #lyft credit i can't us...</td>\n",
       "    </tr>\n",
       "    <tr>\n",
       "      <th>3</th>\n",
       "      <td>0</td>\n",
       "      <td>bihday your majesty</td>\n",
       "    </tr>\n",
       "    <tr>\n",
       "      <th>4</th>\n",
       "      <td>0</td>\n",
       "      <td>#model   i love u take with u all the time in ...</td>\n",
       "    </tr>\n",
       "    <tr>\n",
       "      <th>5</th>\n",
       "      <td>0</td>\n",
       "      <td>factsguide: society now    #motivation</td>\n",
       "    </tr>\n",
       "  </tbody>\n",
       "</table>\n",
       "</div>"
      ],
      "text/plain": [
       "    label                                              tweet\n",
       "id                                                          \n",
       "1       0   @user when a father is dysfunctional and is s...\n",
       "2       0  @user @user thanks for #lyft credit i can't us...\n",
       "3       0                                bihday your majesty\n",
       "4       0  #model   i love u take with u all the time in ...\n",
       "5       0             factsguide: society now    #motivation"
      ]
     },
     "execution_count": 3,
     "metadata": {},
     "output_type": "execute_result"
    }
   ],
   "source": [
    "data.head()"
   ]
  },
  {
   "cell_type": "markdown",
   "id": "3cdd5221",
   "metadata": {
    "papermill": {
     "duration": 0.018523,
     "end_time": "2022-03-28T14:10:09.632847",
     "exception": false,
     "start_time": "2022-03-28T14:10:09.614324",
     "status": "completed"
    },
    "tags": []
   },
   "source": [
    "Let us proceed to a simple pre processing of the tweets by stemming, removing stop words and abbreviations."
   ]
  },
  {
   "cell_type": "code",
   "execution_count": 4,
   "id": "cd95dd79",
   "metadata": {
    "execution": {
     "iopub.execute_input": "2022-03-28T14:10:09.684366Z",
     "iopub.status.busy": "2022-03-28T14:10:09.683425Z",
     "iopub.status.idle": "2022-03-28T14:10:18.346000Z",
     "shell.execute_reply": "2022-03-28T14:10:18.345523Z",
     "shell.execute_reply.started": "2022-03-28T12:55:29.260898Z"
    },
    "papermill": {
     "duration": 8.694515,
     "end_time": "2022-03-28T14:10:18.346156",
     "exception": false,
     "start_time": "2022-03-28T14:10:09.651641",
     "status": "completed"
    },
    "tags": []
   },
   "outputs": [],
   "source": [
    "# This preprocessing is inspired from the notebook https://www.kaggle.com/rashmimanwani/twitter-sentiment-analysis-bidirectional-lstm\n",
    "import re\n",
    "def clean_text(text):\n",
    "    text = text.lower()\n",
    "    text = re.sub(r\"#\", \" \", text)\n",
    "    text = re.sub(r\"what's\", \"what is \", text)\n",
    "    text = re.sub(r\"\\'s\", \" \", text)\n",
    "    text = re.sub(r\"\\'ve\", \" have \", text)\n",
    "    text = re.sub(r\"can't\", \"can not \", text)\n",
    "    text = re.sub(r\"n't\", \" not \", text)\n",
    "    text = re.sub(r\"i'm\", \"i am \", text)\n",
    "    text = re.sub(r\"\\'re\", \" are \", text)\n",
    "    text = re.sub(r\"\\'d\", \" would \", text)\n",
    "    text = re.sub(r\"\\'ll\", \" will \", text)\n",
    "    text = re.sub(r\"\\'scuse\", \" excuse \", text)\n",
    "    text = re.sub('\\W', ' ', text)\n",
    "    text = re.sub('\\s+', ' ', text)\n",
    "    text = re.sub('[^A-Za-z0-9]+', ' ', text)\n",
    "    text = text.strip(' ')\n",
    "    return text\n",
    "\n",
    "data['tweet'] = data['tweet'].map(lambda t: clean_text(t))\n",
    "\n",
    "\n",
    "    \n",
    "stemmer=PorterStemmer()\n",
    "def stem_remove_sw(df,text_col):\n",
    "    corpus = []\n",
    "    for i in range(len(df)):\n",
    "        review = str(df[text_col].iloc[i])\n",
    "        review = review.split()\n",
    "        review = [stemmer.stem(word) for word in review if word not in stop_words]\n",
    "        review = \" \".join(review)\n",
    "        corpus.append(review)\n",
    "    return corpus\n",
    "\n",
    "Tweets = stem_remove_sw(data, 'tweet')\n",
    "y=data.label"
   ]
  },
  {
   "cell_type": "markdown",
   "id": "27372bb8",
   "metadata": {
    "papermill": {
     "duration": 0.018479,
     "end_time": "2022-03-28T14:10:18.383682",
     "exception": false,
     "start_time": "2022-03-28T14:10:18.365203",
     "status": "completed"
    },
    "tags": []
   },
   "source": [
    "We now split the dataset into train and validation datasets:"
   ]
  },
  {
   "cell_type": "code",
   "execution_count": 5,
   "id": "b1ca142b",
   "metadata": {
    "execution": {
     "iopub.execute_input": "2022-03-28T14:10:18.426941Z",
     "iopub.status.busy": "2022-03-28T14:10:18.426287Z",
     "iopub.status.idle": "2022-03-28T14:10:18.428868Z",
     "shell.execute_reply": "2022-03-28T14:10:18.428445Z",
     "shell.execute_reply.started": "2022-03-28T12:55:39.086091Z"
    },
    "papermill": {
     "duration": 0.026638,
     "end_time": "2022-03-28T14:10:18.428969",
     "exception": false,
     "start_time": "2022-03-28T14:10:18.402331",
     "status": "completed"
    },
    "tags": []
   },
   "outputs": [],
   "source": [
    "# We divide the dataset into train and validation datasets\n",
    "split = 0.1\n",
    "i_split = int(len(Tweets)*split)\n",
    "Tweets_val = Tweets[:i_split]\n",
    "y_val = y[:i_split]\n",
    "Tweets_train = Tweets[i_split:]\n",
    "y_train = y[i_split:]\n"
   ]
  },
  {
   "cell_type": "markdown",
   "id": "a9eefe71",
   "metadata": {
    "papermill": {
     "duration": 0.018872,
     "end_time": "2022-03-28T14:10:18.466410",
     "exception": false,
     "start_time": "2022-03-28T14:10:18.447538",
     "status": "completed"
    },
    "tags": []
   },
   "source": [
    "Let us format the input data by tokenizing the words and padding the sequences to a fixed length"
   ]
  },
  {
   "cell_type": "code",
   "execution_count": 6,
   "id": "6b5cb3be",
   "metadata": {
    "execution": {
     "iopub.execute_input": "2022-03-28T14:10:18.566727Z",
     "iopub.status.busy": "2022-03-28T14:10:18.556478Z",
     "iopub.status.idle": "2022-03-28T14:10:19.434170Z",
     "shell.execute_reply": "2022-03-28T14:10:19.434843Z",
     "shell.execute_reply.started": "2022-03-28T12:55:39.094627Z"
    },
    "papermill": {
     "duration": 0.950117,
     "end_time": "2022-03-28T14:10:19.435034",
     "exception": false,
     "start_time": "2022-03-28T14:10:18.484917",
     "status": "completed"
    },
    "tags": []
   },
   "outputs": [
    {
     "name": "stdout",
     "output_type": "stream",
     "text": [
      "30732\n",
      "(28766, 38)\n"
     ]
    }
   ],
   "source": [
    "#We use a Tokenizer to transform each tweet in a sequence of token integers.\n",
    "tokenizer = Tokenizer()\n",
    "tokenizer.fit_on_texts(Tweets_train)\n",
    "X = tokenizer.texts_to_sequences(Tweets)\n",
    "total_words = len(tokenizer.word_index) + 1\n",
    "word_index = tokenizer.word_index\n",
    "\n",
    "\n",
    "# We pad the sequences to match the maximal sequence length of the training set\n",
    "max_sequence_len = max([len(x) for x in X[i_split:]])\n",
    "X = np.array(pad_sequences(X, maxlen=max_sequence_len, padding='pre'))\n",
    "\n",
    "#We divide X between training and validation sets\n",
    "X_val = X[:i_split]\n",
    "X_train = X[i_split:]\n",
    "\n",
    "print(total_words)\n",
    "print(X_train.shape)"
   ]
  },
  {
   "cell_type": "markdown",
   "id": "131d1c90",
   "metadata": {
    "papermill": {
     "duration": 0.01898,
     "end_time": "2022-03-28T14:10:19.474122",
     "exception": false,
     "start_time": "2022-03-28T14:10:19.455142",
     "status": "completed"
    },
    "tags": []
   },
   "source": [
    "Now, we import the Glove word embedding as a matrix"
   ]
  },
  {
   "cell_type": "code",
   "execution_count": 7,
   "id": "dd265913",
   "metadata": {
    "execution": {
     "iopub.execute_input": "2022-03-28T14:10:19.523850Z",
     "iopub.status.busy": "2022-03-28T14:10:19.523179Z",
     "iopub.status.idle": "2022-03-28T14:10:31.517894Z",
     "shell.execute_reply": "2022-03-28T14:10:31.517054Z",
     "shell.execute_reply.started": "2022-03-28T12:55:40.462846Z"
    },
    "papermill": {
     "duration": 12.022416,
     "end_time": "2022-03-28T14:10:31.518028",
     "exception": false,
     "start_time": "2022-03-28T14:10:19.495612",
     "status": "completed"
    },
    "tags": []
   },
   "outputs": [],
   "source": [
    "embeddings_index = {};\n",
    "with open('../input/glove6b100dtxt/glove.6B.100d.txt') as f:\n",
    "    for line in f:\n",
    "        values = line.split();\n",
    "        word = values[0];\n",
    "        coefs = np.asarray(values[1:], dtype='float32');\n",
    "        embeddings_index[word] = coefs;\n",
    "\n",
    "embeddings_matrix = np.zeros((total_words, 100));\n",
    "for word, i in word_index.items():\n",
    "    embedding_vector = embeddings_index.get(word);\n",
    "    if embedding_vector is not None:\n",
    "        embeddings_matrix[i] = embedding_vector;"
   ]
  },
  {
   "cell_type": "markdown",
   "id": "fa70bdbd",
   "metadata": {
    "papermill": {
     "duration": 0.018974,
     "end_time": "2022-03-28T14:10:31.556509",
     "exception": false,
     "start_time": "2022-03-28T14:10:31.537535",
     "status": "completed"
    },
    "tags": []
   },
   "source": [
    "Let us now build our model, composed of the Glove embedding, followed by a BiLSTM and Dense layers. We include Dropout and L2 regularizers. The final layer is a sigmoid because this is a binary classifcation task."
   ]
  },
  {
   "cell_type": "code",
   "execution_count": 8,
   "id": "6a6b77f8",
   "metadata": {
    "execution": {
     "iopub.execute_input": "2022-03-28T14:10:31.603863Z",
     "iopub.status.busy": "2022-03-28T14:10:31.603324Z",
     "iopub.status.idle": "2022-03-28T14:10:34.679796Z",
     "shell.execute_reply": "2022-03-28T14:10:34.680532Z",
     "shell.execute_reply.started": "2022-03-28T12:55:54.569601Z"
    },
    "papermill": {
     "duration": 3.105145,
     "end_time": "2022-03-28T14:10:34.680680",
     "exception": false,
     "start_time": "2022-03-28T14:10:31.575535",
     "status": "completed"
    },
    "tags": []
   },
   "outputs": [
    {
     "name": "stderr",
     "output_type": "stream",
     "text": [
      "2022-03-28 14:10:31.689567: I tensorflow/stream_executor/cuda/cuda_gpu_executor.cc:937] successful NUMA node read from SysFS had negative value (-1), but there must be at least one NUMA node, so returning NUMA node zero\n",
      "2022-03-28 14:10:31.790068: I tensorflow/stream_executor/cuda/cuda_gpu_executor.cc:937] successful NUMA node read from SysFS had negative value (-1), but there must be at least one NUMA node, so returning NUMA node zero\n",
      "2022-03-28 14:10:31.790794: I tensorflow/stream_executor/cuda/cuda_gpu_executor.cc:937] successful NUMA node read from SysFS had negative value (-1), but there must be at least one NUMA node, so returning NUMA node zero\n",
      "2022-03-28 14:10:31.791946: I tensorflow/core/platform/cpu_feature_guard.cc:142] This TensorFlow binary is optimized with oneAPI Deep Neural Network Library (oneDNN) to use the following CPU instructions in performance-critical operations:  AVX2 AVX512F FMA\n",
      "To enable them in other operations, rebuild TensorFlow with the appropriate compiler flags.\n",
      "2022-03-28 14:10:31.793044: I tensorflow/stream_executor/cuda/cuda_gpu_executor.cc:937] successful NUMA node read from SysFS had negative value (-1), but there must be at least one NUMA node, so returning NUMA node zero\n",
      "2022-03-28 14:10:31.793746: I tensorflow/stream_executor/cuda/cuda_gpu_executor.cc:937] successful NUMA node read from SysFS had negative value (-1), but there must be at least one NUMA node, so returning NUMA node zero\n",
      "2022-03-28 14:10:31.794381: I tensorflow/stream_executor/cuda/cuda_gpu_executor.cc:937] successful NUMA node read from SysFS had negative value (-1), but there must be at least one NUMA node, so returning NUMA node zero\n",
      "2022-03-28 14:10:33.833905: I tensorflow/stream_executor/cuda/cuda_gpu_executor.cc:937] successful NUMA node read from SysFS had negative value (-1), but there must be at least one NUMA node, so returning NUMA node zero\n",
      "2022-03-28 14:10:33.834732: I tensorflow/stream_executor/cuda/cuda_gpu_executor.cc:937] successful NUMA node read from SysFS had negative value (-1), but there must be at least one NUMA node, so returning NUMA node zero\n",
      "2022-03-28 14:10:33.835386: I tensorflow/stream_executor/cuda/cuda_gpu_executor.cc:937] successful NUMA node read from SysFS had negative value (-1), but there must be at least one NUMA node, so returning NUMA node zero\n",
      "2022-03-28 14:10:33.835988: I tensorflow/core/common_runtime/gpu/gpu_device.cc:1510] Created device /job:localhost/replica:0/task:0/device:GPU:0 with 15403 MB memory:  -> device: 0, name: Tesla P100-PCIE-16GB, pci bus id: 0000:00:04.0, compute capability: 6.0\n"
     ]
    },
    {
     "name": "stdout",
     "output_type": "stream",
     "text": [
      "Model: \"sequential\"\n",
      "_________________________________________________________________\n",
      "Layer (type)                 Output Shape              Param #   \n",
      "=================================================================\n",
      "embedding (Embedding)        (None, 38, 100)           3073200   \n",
      "_________________________________________________________________\n",
      "dropout (Dropout)            (None, 38, 100)           0         \n",
      "_________________________________________________________________\n",
      "bidirectional (Bidirectional (None, 38, 128)           84480     \n",
      "_________________________________________________________________\n",
      "dropout_1 (Dropout)          (None, 38, 128)           0         \n",
      "_________________________________________________________________\n",
      "bidirectional_1 (Bidirection (None, 32)                18560     \n",
      "_________________________________________________________________\n",
      "dropout_2 (Dropout)          (None, 32)                0         \n",
      "_________________________________________________________________\n",
      "dense (Dense)                (None, 512)               16896     \n",
      "_________________________________________________________________\n",
      "dropout_3 (Dropout)          (None, 512)               0         \n",
      "_________________________________________________________________\n",
      "dense_1 (Dense)              (None, 256)               131328    \n",
      "_________________________________________________________________\n",
      "dropout_4 (Dropout)          (None, 256)               0         \n",
      "_________________________________________________________________\n",
      "dense_2 (Dense)              (None, 128)               32896     \n",
      "_________________________________________________________________\n",
      "dropout_5 (Dropout)          (None, 128)               0         \n",
      "_________________________________________________________________\n",
      "dense_3 (Dense)              (None, 64)                8256      \n",
      "_________________________________________________________________\n",
      "dropout_6 (Dropout)          (None, 64)                0         \n",
      "_________________________________________________________________\n",
      "dense_4 (Dense)              (None, 1)                 65        \n",
      "=================================================================\n",
      "Total params: 3,365,681\n",
      "Trainable params: 292,481\n",
      "Non-trainable params: 3,073,200\n",
      "_________________________________________________________________\n"
     ]
    }
   ],
   "source": [
    "model = Sequential([\n",
    "    Embedding(total_words, 100, input_length=max_sequence_len, weights=[embeddings_matrix], trainable=False),\n",
    "    Dropout(0.2),\n",
    "    Bidirectional(LSTM(64, return_sequences = True,\n",
    "                       activation=\"relu\",\n",
    "                       kernel_regularizer=regularizers.l2(0.01))),\n",
    "    Dropout(0.2),\n",
    "    Bidirectional(LSTM(16, return_sequences = False,\n",
    "                       activation=\"relu\",\n",
    "                       kernel_regularizer=regularizers.l2(0.01))),\n",
    "    Dropout(0.2),\n",
    "    Dense(512, activation='relu', kernel_regularizer=regularizers.l2(0.01)),\n",
    "    Dropout(0.2),\n",
    "    Dense(256, activation='relu', kernel_regularizer=regularizers.l2(0.01)),\n",
    "    Dropout(0.2),\n",
    "    Dense(128, activation='relu', kernel_regularizer=regularizers.l2(0.01)),\n",
    "    Dropout(0.2),\n",
    "    Dense(64, activation='relu', kernel_regularizer=regularizers.l2(0.01)),\n",
    "    Dropout(0.2),\n",
    "    Dense(1, activation='sigmoid'),\n",
    "    ])\n",
    "\n",
    "model.compile(loss='binary_crossentropy', \n",
    "              optimizer=tf.keras.optimizers.Adam(learning_rate=0.0001), \n",
    "              metrics=['accuracy'])\n",
    "\n",
    "model.summary()"
   ]
  },
  {
   "cell_type": "markdown",
   "id": "67118156",
   "metadata": {
    "papermill": {
     "duration": 0.020022,
     "end_time": "2022-03-28T14:10:34.721259",
     "exception": false,
     "start_time": "2022-03-28T14:10:34.701237",
     "status": "completed"
    },
    "tags": []
   },
   "source": [
    "The dataset is imbalanced because it contains much more examples targeted as 0. A good practice is therefore to weight the loss accordingly, so that we will give more importance to the examples targeted as 1 to compensate their sparsity."
   ]
  },
  {
   "cell_type": "code",
   "execution_count": 9,
   "id": "4dbcf642",
   "metadata": {
    "execution": {
     "iopub.execute_input": "2022-03-28T14:10:34.765350Z",
     "iopub.status.busy": "2022-03-28T14:10:34.764594Z",
     "iopub.status.idle": "2022-03-28T14:10:34.772564Z",
     "shell.execute_reply": "2022-03-28T14:10:34.772933Z",
     "shell.execute_reply.started": "2022-03-28T12:55:55.024484Z"
    },
    "papermill": {
     "duration": 0.031907,
     "end_time": "2022-03-28T14:10:34.773051",
     "exception": false,
     "start_time": "2022-03-28T14:10:34.741144",
     "status": "completed"
    },
    "tags": []
   },
   "outputs": [],
   "source": [
    "# Calculate the weights for each class so that we can balance the data\n",
    "weights = class_weight.compute_class_weight('balanced',\n",
    "                                            classes = np.unique(y_train),\n",
    "                                            y = y_train)\n",
    "weights= {key: value for key,value in enumerate(weights)}"
   ]
  },
  {
   "cell_type": "markdown",
   "id": "2a329ca7",
   "metadata": {
    "papermill": {
     "duration": 0.019995,
     "end_time": "2022-03-28T14:10:34.812920",
     "exception": false,
     "start_time": "2022-03-28T14:10:34.792925",
     "status": "completed"
    },
    "tags": []
   },
   "source": [
    "We use an EarlyStopping callback during training:"
   ]
  },
  {
   "cell_type": "code",
   "execution_count": 10,
   "id": "198b9137",
   "metadata": {
    "execution": {
     "iopub.execute_input": "2022-03-28T14:10:34.856786Z",
     "iopub.status.busy": "2022-03-28T14:10:34.856069Z",
     "iopub.status.idle": "2022-03-28T14:10:34.858608Z",
     "shell.execute_reply": "2022-03-28T14:10:34.858187Z",
     "shell.execute_reply.started": "2022-03-28T12:55:55.037928Z"
    },
    "papermill": {
     "duration": 0.025945,
     "end_time": "2022-03-28T14:10:34.858704",
     "exception": false,
     "start_time": "2022-03-28T14:10:34.832759",
     "status": "completed"
    },
    "tags": []
   },
   "outputs": [],
   "source": [
    "EarlyStop = tf.keras.callbacks.EarlyStopping(monitor=\"val_loss\",min_delta=0,patience=200)"
   ]
  },
  {
   "cell_type": "markdown",
   "id": "3ad598b2",
   "metadata": {
    "execution": {
     "iopub.execute_input": "2022-03-27T15:40:31.827042Z",
     "iopub.status.busy": "2022-03-27T15:40:31.826652Z",
     "iopub.status.idle": "2022-03-27T15:40:31.831787Z",
     "shell.execute_reply": "2022-03-27T15:40:31.830589Z",
     "shell.execute_reply.started": "2022-03-27T15:40:31.827013Z"
    },
    "papermill": {
     "duration": 0.019636,
     "end_time": "2022-03-28T14:10:34.898149",
     "exception": false,
     "start_time": "2022-03-28T14:10:34.878513",
     "status": "completed"
    },
    "tags": []
   },
   "source": [
    "Let us train our model:"
   ]
  },
  {
   "cell_type": "code",
   "execution_count": 11,
   "id": "e0fb2f73",
   "metadata": {
    "execution": {
     "iopub.execute_input": "2022-03-28T14:10:34.942216Z",
     "iopub.status.busy": "2022-03-28T14:10:34.941577Z",
     "iopub.status.idle": "2022-03-28T18:22:45.696477Z",
     "shell.execute_reply": "2022-03-28T18:22:45.695907Z",
     "shell.execute_reply.started": "2022-03-28T12:55:55.052346Z"
    },
    "papermill": {
     "duration": 15130.778568,
     "end_time": "2022-03-28T18:22:45.696633",
     "exception": false,
     "start_time": "2022-03-28T14:10:34.918065",
     "status": "completed"
    },
    "tags": []
   },
   "outputs": [
    {
     "name": "stderr",
     "output_type": "stream",
     "text": [
      "2022-03-28 14:10:34.996696: I tensorflow/compiler/mlir/mlir_graph_optimization_pass.cc:185] None of the MLIR Optimization Passes are enabled (registered 2)\n"
     ]
    }
   ],
   "source": [
    "history = model.fit(X_train, y_train, \n",
    "                    epochs=500,\n",
    "                    batch_size=256, \n",
    "                    verbose=0, \n",
    "                    validation_data = (X_val, y_val),\n",
    "                   callbacks=[EarlyStop],\n",
    "                   class_weight=weights)\n",
    "\n"
   ]
  },
  {
   "cell_type": "markdown",
   "id": "c2b39710",
   "metadata": {
    "papermill": {
     "duration": 0.022087,
     "end_time": "2022-03-28T18:22:45.741759",
     "exception": false,
     "start_time": "2022-03-28T18:22:45.719672",
     "status": "completed"
    },
    "tags": []
   },
   "source": [
    "We save our model and print the training history."
   ]
  },
  {
   "cell_type": "code",
   "execution_count": 12,
   "id": "ad98da92",
   "metadata": {
    "execution": {
     "iopub.execute_input": "2022-03-28T18:22:45.792521Z",
     "iopub.status.busy": "2022-03-28T18:22:45.791904Z",
     "iopub.status.idle": "2022-03-28T18:22:46.177018Z",
     "shell.execute_reply": "2022-03-28T18:22:46.176606Z",
     "shell.execute_reply.started": "2022-03-28T12:56:31.190861Z"
    },
    "papermill": {
     "duration": 0.415123,
     "end_time": "2022-03-28T18:22:46.177162",
     "exception": false,
     "start_time": "2022-03-28T18:22:45.762039",
     "status": "completed"
    },
    "tags": []
   },
   "outputs": [
    {
     "data": {
      "image/png": "[encoded data removed]",
      "text/plain": [
       "<Figure size 432x288 with 1 Axes>"
      ]
     },
     "metadata": {
      "needs_background": "light"
     },
     "output_type": "display_data"
    },
    {
     "data": {
      "image/png": "[encoded data removed]",
      "text/plain": [
       "<Figure size 432x288 with 1 Axes>"
      ]
     },
     "metadata": {
      "needs_background": "light"
     },
     "output_type": "display_data"
    }
   ],
   "source": [
    "def print_save(model, history, name, save=True, plot=True):\n",
    "    \n",
    "    hist_df = pd.DataFrame(history.history)\n",
    "    \n",
    "    if save:\n",
    "        model.save(name)\n",
    "        hist_csv_file = name+'_history.csv'\n",
    "        with open(hist_csv_file, mode='w') as f:\n",
    "            hist_df.to_csv(f)\n",
    "    if plot:\n",
    "        hist_df[[\"loss\",'val_loss']][5:].plot()\n",
    "        hist_df[[\"accuracy\",'val_accuracy']].plot()\n",
    "        \n",
    "        \n",
    "        \n",
    "        \n",
    "print_save(model, history, 'model',save=False)"
   ]
  },
  {
   "cell_type": "markdown",
   "id": "33bbb48f",
   "metadata": {
    "papermill": {
     "duration": 0.022297,
     "end_time": "2022-03-28T18:22:46.222281",
     "exception": false,
     "start_time": "2022-03-28T18:22:46.199984",
     "status": "completed"
    },
    "tags": []
   },
   "source": [
    "Let us finally compute the performances of our model and compare it to a baseline model that always predict the target \"0\"."
   ]
  },
  {
   "cell_type": "code",
   "execution_count": 13,
   "id": "19d1ed57",
   "metadata": {
    "execution": {
     "iopub.execute_input": "2022-03-28T18:22:46.276751Z",
     "iopub.status.busy": "2022-03-28T18:22:46.270955Z",
     "iopub.status.idle": "2022-03-28T18:22:48.667656Z",
     "shell.execute_reply": "2022-03-28T18:22:48.668100Z",
     "shell.execute_reply.started": "2022-03-28T12:56:31.691011Z"
    },
    "papermill": {
     "duration": 2.423272,
     "end_time": "2022-03-28T18:22:48.668262",
     "exception": false,
     "start_time": "2022-03-28T18:22:46.244990",
     "status": "completed"
    },
    "tags": []
   },
   "outputs": [
    {
     "data": {
      "text/html": [
       "<div>\n",
       "<style scoped>\n",
       "    .dataframe tbody tr th:only-of-type {\n",
       "        vertical-align: middle;\n",
       "    }\n",
       "\n",
       "    .dataframe tbody tr th {\n",
       "        vertical-align: top;\n",
       "    }\n",
       "\n",
       "    .dataframe thead th {\n",
       "        text-align: right;\n",
       "    }\n",
       "</style>\n",
       "<table border=\"1\" class=\"dataframe\">\n",
       "  <thead>\n",
       "    <tr style=\"text-align: right;\">\n",
       "      <th></th>\n",
       "      <th>accuracy</th>\n",
       "      <th>precision</th>\n",
       "      <th>TN_ratio</th>\n",
       "      <th>FN_ratio</th>\n",
       "      <th>FP_ratio</th>\n",
       "      <th>TP_ratio</th>\n",
       "    </tr>\n",
       "  </thead>\n",
       "  <tbody>\n",
       "    <tr>\n",
       "      <th>prediction</th>\n",
       "      <td>0.879850</td>\n",
       "      <td>0.334016</td>\n",
       "      <td>0.828849</td>\n",
       "      <td>0.10169</td>\n",
       "      <td>0.018461</td>\n",
       "      <td>0.051001</td>\n",
       "    </tr>\n",
       "    <tr>\n",
       "      <th>baseline</th>\n",
       "      <td>0.930538</td>\n",
       "      <td>0.000000</td>\n",
       "      <td>0.930538</td>\n",
       "      <td>0.00000</td>\n",
       "      <td>0.069462</td>\n",
       "      <td>0.000000</td>\n",
       "    </tr>\n",
       "  </tbody>\n",
       "</table>\n",
       "</div>"
      ],
      "text/plain": [
       "            accuracy  precision  TN_ratio  FN_ratio  FP_ratio  TP_ratio\n",
       "prediction  0.879850   0.334016  0.828849   0.10169  0.018461  0.051001\n",
       "baseline    0.930538   0.000000  0.930538   0.00000  0.069462  0.000000"
      ]
     },
     "execution_count": 13,
     "metadata": {},
     "output_type": "execute_result"
    }
   ],
   "source": [
    "y_hat=tf.cast(model.predict(X_val)[:,0]>0.5, tf.float32).numpy()\n",
    "y_baseline = np.ones(len(y_val))* float(y_train.mean()>0.5)\n",
    "\n",
    "\n",
    "scores= pd.DataFrame()\n",
    "for name, y in {\"prediction\" : y_hat, \"baseline\" : y_baseline}.items():\n",
    "    accuracy = tf.keras.metrics.Accuracy()(y_val, y).numpy()\n",
    "    precision = tf.keras.metrics.Precision()(y_val, y).numpy()\n",
    "    cross_table = pd.crosstab(y_val,y,margins = False, normalize = True)\n",
    "    if name == \"prediction\":\n",
    "        TN_ratio, FN_ratio, FP_ratio, TP_ratio = cross_table.iloc[0,0], cross_table.iloc[0,1], cross_table.iloc[1,0], cross_table.iloc[1,1]\n",
    "    else:\n",
    "        TN_ratio, FN_ratio, FP_ratio, TP_ratio = cross_table.iloc[0,0],0., cross_table.iloc[1,0], 0.\n",
    "    \n",
    "    score = pd.Series({\"accuracy\": accuracy, \"precision\": precision,\n",
    "              \"TN_ratio\":TN_ratio, \"FN_ratio\":FN_ratio, \n",
    "               \"FP_ratio\":FP_ratio, \"TP_ratio\":TP_ratio}, name = name)\n",
    "    scores = scores.append(score)\n",
    "    \n",
    "scores\n",
    "\n"
   ]
  }
 ],
 "metadata": {
  "kernelspec": {
   "display_name": "Python 3",
   "language": "python",
   "name": "python3"
  },
  "language_info": {
   "codemirror_mode": {
    "name": "ipython",
    "version": 3
   },
   "file_extension": ".py",
   "mimetype": "text/x-python",
   "name": "python",
   "nbconvert_exporter": "python",
   "pygments_lexer": "ipython3",
   "version": "3.7.12"
  },
  "papermill": {
   "default_parameters": {},
   "duration": 15177.932381,
   "end_time": "2022-03-28T18:22:51.960333",
   "environment_variables": {},
   "exception": null,
   "input_path": "__notebook__.ipynb",
   "output_path": "__notebook__.ipynb",
   "parameters": {},
   "start_time": "2022-03-28T14:09:54.027952",
   "version": "2.3.3"
  }
 },
 "nbformat": 4,
 "nbformat_minor": 5
}
