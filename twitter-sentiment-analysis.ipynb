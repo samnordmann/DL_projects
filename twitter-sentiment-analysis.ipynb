{
 "cells": [
  {
   "cell_type": "markdown",
   "id": "74e66a52",
   "metadata": {
    "papermill": {
     "duration": 0.026708,
     "end_time": "2022-03-28T13:04:28.592847",
     "exception": false,
     "start_time": "2022-03-28T13:04:28.566139",
     "status": "completed"
    },
    "tags": []
   },
   "source": [
    "In this notebook, we propose a simple but original implementation from scratch of an text classifier on a Twitter sentiment dataset. The goal is to detect hate tweets. The dataset is composed of +16k tweets belonging to 2 different classes.\n",
    "\n",
    "\n",
    "Our model uses the glove6b embedding of words followed by a Bidirectional LSTM and Dense layers.\n",
    "The performance of our algorithm is computed in the last cell of the notebook."
   ]
  },
  {
   "cell_type": "code",
   "execution_count": 1,
   "id": "f10c438a",
   "metadata": {
    "execution": {
     "iopub.execute_input": "2022-03-28T13:04:28.656642Z",
     "iopub.status.busy": "2022-03-28T13:04:28.655531Z",
     "iopub.status.idle": "2022-03-28T13:04:36.433630Z",
     "shell.execute_reply": "2022-03-28T13:04:36.434514Z",
     "shell.execute_reply.started": "2022-03-28T12:55:20.112172Z"
    },
    "papermill": {
     "duration": 7.814624,
     "end_time": "2022-03-28T13:04:36.434966",
     "exception": false,
     "start_time": "2022-03-28T13:04:28.620342",
     "status": "completed"
    },
    "tags": []
   },
   "outputs": [
    {
     "name": "stdout",
     "output_type": "stream",
     "text": [
      "[nltk_data] Downloading package stopwords to /usr/share/nltk_data...\n",
      "[nltk_data]   Package stopwords is already up-to-date!\n",
      "2.6.2\n"
     ]
    }
   ],
   "source": [
    "import numpy as np\n",
    "import pandas as pd\n",
    "import tensorflow as tf\n",
    "import tensorflow.keras.utils as ku \n",
    "import tensorflow_hub as hub\n",
    "\n",
    "from tensorflow.keras.models import Sequential\n",
    "from tensorflow.keras import regularizers\n",
    "from tensorflow.keras.layers import Embedding, LSTM, Dense, Dropout, Bidirectional\n",
    "from tensorflow.keras.preprocessing.text import Tokenizer\n",
    "from tensorflow.keras.preprocessing.sequence import pad_sequences\n",
    "\n",
    "from sklearn.utils import class_weight\n",
    "\n",
    "import re\n",
    "import nltk\n",
    "from nltk.stem.porter import PorterStemmer\n",
    "from nltk.corpus import stopwords\n",
    "nltk.download('stopwords')\n",
    "stop_words = set(stopwords.words('english'))\n",
    "\n",
    "\n",
    "print(tf.__version__)"
   ]
  },
  {
   "cell_type": "markdown",
   "id": "34c5dc15",
   "metadata": {
    "papermill": {
     "duration": 0.025231,
     "end_time": "2022-03-28T13:04:36.487130",
     "exception": false,
     "start_time": "2022-03-28T13:04:36.461899",
     "status": "completed"
    },
    "tags": []
   },
   "source": [
    "Let us load the dataset:"
   ]
  },
  {
   "cell_type": "code",
   "execution_count": 2,
   "id": "bc825e49",
   "metadata": {
    "execution": {
     "iopub.execute_input": "2022-03-28T13:04:36.543058Z",
     "iopub.status.busy": "2022-03-28T13:04:36.542206Z",
     "iopub.status.idle": "2022-03-28T13:04:36.669314Z",
     "shell.execute_reply": "2022-03-28T13:04:36.668653Z",
     "shell.execute_reply.started": "2022-03-28T12:55:29.064106Z"
    },
    "papermill": {
     "duration": 0.1573,
     "end_time": "2022-03-28T13:04:36.669471",
     "exception": false,
     "start_time": "2022-03-28T13:04:36.512171",
     "status": "completed"
    },
    "tags": []
   },
   "outputs": [],
   "source": [
    "data=pd.read_csv('../input/twitter-sentiment-analysis-hatred-speech/train.csv',\n",
    "                 index_col= \"id\")"
   ]
  },
  {
   "cell_type": "markdown",
   "id": "3d105861",
   "metadata": {
    "papermill": {
     "duration": 0.02489,
     "end_time": "2022-03-28T13:04:36.720715",
     "exception": false,
     "start_time": "2022-03-28T13:04:36.695825",
     "status": "completed"
    },
    "tags": []
   },
   "source": [
    "and explore the first rows:"
   ]
  },
  {
   "cell_type": "code",
   "execution_count": 3,
   "id": "a9b400aa",
   "metadata": {
    "execution": {
     "iopub.execute_input": "2022-03-28T13:04:36.778896Z",
     "iopub.status.busy": "2022-03-28T13:04:36.777618Z",
     "iopub.status.idle": "2022-03-28T13:04:36.789452Z",
     "shell.execute_reply": "2022-03-28T13:04:36.790026Z",
     "shell.execute_reply.started": "2022-03-28T12:55:29.236122Z"
    },
    "papermill": {
     "duration": 0.044281,
     "end_time": "2022-03-28T13:04:36.790192",
     "exception": false,
     "start_time": "2022-03-28T13:04:36.745911",
     "status": "completed"
    },
    "tags": []
   },
   "outputs": [
    {
     "data": {
      "text/html": [
       "<div>\n",
       "<style scoped>\n",
       "    .dataframe tbody tr th:only-of-type {\n",
       "        vertical-align: middle;\n",
       "    }\n",
       "\n",
       "    .dataframe tbody tr th {\n",
       "        vertical-align: top;\n",
       "    }\n",
       "\n",
       "    .dataframe thead th {\n",
       "        text-align: right;\n",
       "    }\n",
       "</style>\n",
       "<table border=\"1\" class=\"dataframe\">\n",
       "  <thead>\n",
       "    <tr style=\"text-align: right;\">\n",
       "      <th></th>\n",
       "      <th>label</th>\n",
       "      <th>tweet</th>\n",
       "    </tr>\n",
       "    <tr>\n",
       "      <th>id</th>\n",
       "      <th></th>\n",
       "      <th></th>\n",
       "    </tr>\n",
       "  </thead>\n",
       "  <tbody>\n",
       "    <tr>\n",
       "      <th>1</th>\n",
       "      <td>0</td>\n",
       "      <td>@user when a father is dysfunctional and is s...</td>\n",
       "    </tr>\n",
       "    <tr>\n",
       "      <th>2</th>\n",
       "      <td>0</td>\n",
       "      <td>@user @user thanks for #lyft credit i can't us...</td>\n",
       "    </tr>\n",
       "    <tr>\n",
       "      <th>3</th>\n",
       "      <td>0</td>\n",
       "      <td>bihday your majesty</td>\n",
       "    </tr>\n",
       "    <tr>\n",
       "      <th>4</th>\n",
       "      <td>0</td>\n",
       "      <td>#model   i love u take with u all the time in ...</td>\n",
       "    </tr>\n",
       "    <tr>\n",
       "      <th>5</th>\n",
       "      <td>0</td>\n",
       "      <td>factsguide: society now    #motivation</td>\n",
       "    </tr>\n",
       "  </tbody>\n",
       "</table>\n",
       "</div>"
      ],
      "text/plain": [
       "    label                                              tweet\n",
       "id                                                          \n",
       "1       0   @user when a father is dysfunctional and is s...\n",
       "2       0  @user @user thanks for #lyft credit i can't us...\n",
       "3       0                                bihday your majesty\n",
       "4       0  #model   i love u take with u all the time in ...\n",
       "5       0             factsguide: society now    #motivation"
      ]
     },
     "execution_count": 3,
     "metadata": {},
     "output_type": "execute_result"
    }
   ],
   "source": [
    "data.head()"
   ]
  },
  {
   "cell_type": "markdown",
   "id": "b5cbb825",
   "metadata": {
    "papermill": {
     "duration": 0.02546,
     "end_time": "2022-03-28T13:04:36.843111",
     "exception": false,
     "start_time": "2022-03-28T13:04:36.817651",
     "status": "completed"
    },
    "tags": []
   },
   "source": [
    "Let us proceed to a simple pre processing of the tweets by stemming, removing stop words and abbreviations."
   ]
  },
  {
   "cell_type": "code",
   "execution_count": 4,
   "id": "e699ccbe",
   "metadata": {
    "execution": {
     "iopub.execute_input": "2022-03-28T13:04:36.912056Z",
     "iopub.status.busy": "2022-03-28T13:04:36.899041Z",
     "iopub.status.idle": "2022-03-28T13:04:47.649250Z",
     "shell.execute_reply": "2022-03-28T13:04:47.648621Z",
     "shell.execute_reply.started": "2022-03-28T12:55:29.260898Z"
    },
    "papermill": {
     "duration": 10.780268,
     "end_time": "2022-03-28T13:04:47.649422",
     "exception": false,
     "start_time": "2022-03-28T13:04:36.869154",
     "status": "completed"
    },
    "tags": []
   },
   "outputs": [],
   "source": [
    "# This preprocessing is inspired from the notebook https://www.kaggle.com/rashmimanwani/twitter-sentiment-analysis-bidirectional-lstm\n",
    "import re\n",
    "def clean_text(text):\n",
    "    text = text.lower()\n",
    "    text = re.sub(r\"#\", \" \", text)\n",
    "    text = re.sub(r\"what's\", \"what is \", text)\n",
    "    text = re.sub(r\"\\'s\", \" \", text)\n",
    "    text = re.sub(r\"\\'ve\", \" have \", text)\n",
    "    text = re.sub(r\"can't\", \"can not \", text)\n",
    "    text = re.sub(r\"n't\", \" not \", text)\n",
    "    text = re.sub(r\"i'm\", \"i am \", text)\n",
    "    text = re.sub(r\"\\'re\", \" are \", text)\n",
    "    text = re.sub(r\"\\'d\", \" would \", text)\n",
    "    text = re.sub(r\"\\'ll\", \" will \", text)\n",
    "    text = re.sub(r\"\\'scuse\", \" excuse \", text)\n",
    "    text = re.sub('\\W', ' ', text)\n",
    "    text = re.sub('\\s+', ' ', text)\n",
    "    text = re.sub('[^A-Za-z0-9]+', ' ', text)\n",
    "    text = text.strip(' ')\n",
    "    return text\n",
    "\n",
    "data['tweet'] = data['tweet'].map(lambda t: clean_text(t))\n",
    "\n",
    "\n",
    "    \n",
    "stemmer=PorterStemmer()\n",
    "def stem_remove_sw(df,text_col):\n",
    "    corpus = []\n",
    "    for i in range(len(df)):\n",
    "        review = str(df[text_col].iloc[i])\n",
    "        review = review.split()\n",
    "        review = [stemmer.stem(word) for word in review if word not in stop_words]\n",
    "        review = \" \".join(review)\n",
    "        corpus.append(review)\n",
    "    return corpus\n",
    "\n",
    "Tweets = stem_remove_sw(data, 'tweet')\n",
    "y=data.label"
   ]
  },
  {
   "cell_type": "markdown",
   "id": "aecaed23",
   "metadata": {
    "papermill": {
     "duration": 0.026884,
     "end_time": "2022-03-28T13:04:47.703243",
     "exception": false,
     "start_time": "2022-03-28T13:04:47.676359",
     "status": "completed"
    },
    "tags": []
   },
   "source": [
    "We now split the dataset into train and validation datasets:"
   ]
  },
  {
   "cell_type": "code",
   "execution_count": 5,
   "id": "5ed9a649",
   "metadata": {
    "execution": {
     "iopub.execute_input": "2022-03-28T13:04:47.763339Z",
     "iopub.status.busy": "2022-03-28T13:04:47.762175Z",
     "iopub.status.idle": "2022-03-28T13:04:47.764647Z",
     "shell.execute_reply": "2022-03-28T13:04:47.765283Z",
     "shell.execute_reply.started": "2022-03-28T12:55:39.086091Z"
    },
    "papermill": {
     "duration": 0.036029,
     "end_time": "2022-03-28T13:04:47.765494",
     "exception": false,
     "start_time": "2022-03-28T13:04:47.729465",
     "status": "completed"
    },
    "tags": []
   },
   "outputs": [],
   "source": [
    "# We divide the dataset into train and validation datasets\n",
    "split = 0.1\n",
    "i_split = int(len(Tweets)*split)\n",
    "Tweets_val = Tweets[:i_split]\n",
    "y_val = y[:i_split]\n",
    "Tweets_train = Tweets[i_split:]\n",
    "y_train = y[i_split:]\n"
   ]
  },
  {
   "cell_type": "markdown",
   "id": "41a9b9fb",
   "metadata": {
    "papermill": {
     "duration": 0.02889,
     "end_time": "2022-03-28T13:04:47.822167",
     "exception": false,
     "start_time": "2022-03-28T13:04:47.793277",
     "status": "completed"
    },
    "tags": []
   },
   "source": [
    "Let us format the input data by tokenizing the words and padding the sequences to a fixed length"
   ]
  },
  {
   "cell_type": "code",
   "execution_count": 6,
   "id": "45f936c0",
   "metadata": {
    "execution": {
     "iopub.execute_input": "2022-03-28T13:04:47.928622Z",
     "iopub.status.busy": "2022-03-28T13:04:47.918537Z",
     "iopub.status.idle": "2022-03-28T13:04:49.019783Z",
     "shell.execute_reply": "2022-03-28T13:04:49.021304Z",
     "shell.execute_reply.started": "2022-03-28T12:55:39.094627Z"
    },
    "papermill": {
     "duration": 1.173554,
     "end_time": "2022-03-28T13:04:49.021563",
     "exception": false,
     "start_time": "2022-03-28T13:04:47.848009",
     "status": "completed"
    },
    "tags": []
   },
   "outputs": [
    {
     "name": "stdout",
     "output_type": "stream",
     "text": [
      "30732\n",
      "(28766, 38)\n"
     ]
    }
   ],
   "source": [
    "#We use a Tokenizer to transform each tweet in a sequence of token integers.\n",
    "tokenizer = Tokenizer()\n",
    "tokenizer.fit_on_texts(Tweets_train)\n",
    "X = tokenizer.texts_to_sequences(Tweets)\n",
    "total_words = len(tokenizer.word_index) + 1\n",
    "word_index = tokenizer.word_index\n",
    "\n",
    "\n",
    "# We pad the sequences to match the maximal sequence length of the training set\n",
    "max_sequence_len = max([len(x) for x in X[i_split:]])\n",
    "X = np.array(pad_sequences(X, maxlen=max_sequence_len, padding='pre'))\n",
    "\n",
    "#We divide X between training and validation sets\n",
    "X_val = X[:i_split]\n",
    "X_train = X[i_split:]\n",
    "\n",
    "print(total_words)\n",
    "print(X_train.shape)"
   ]
  },
  {
   "cell_type": "markdown",
   "id": "17b2530b",
   "metadata": {
    "papermill": {
     "duration": 0.02709,
     "end_time": "2022-03-28T13:04:49.075568",
     "exception": false,
     "start_time": "2022-03-28T13:04:49.048478",
     "status": "completed"
    },
    "tags": []
   },
   "source": [
    "Now, we import the Glove word embedding as a matrix"
   ]
  },
  {
   "cell_type": "code",
   "execution_count": 7,
   "id": "f43433c0",
   "metadata": {
    "execution": {
     "iopub.execute_input": "2022-03-28T13:04:49.137861Z",
     "iopub.status.busy": "2022-03-28T13:04:49.137145Z",
     "iopub.status.idle": "2022-03-28T13:05:04.791034Z",
     "shell.execute_reply": "2022-03-28T13:05:04.790387Z",
     "shell.execute_reply.started": "2022-03-28T12:55:40.462846Z"
    },
    "papermill": {
     "duration": 15.688446,
     "end_time": "2022-03-28T13:05:04.791190",
     "exception": false,
     "start_time": "2022-03-28T13:04:49.102744",
     "status": "completed"
    },
    "tags": []
   },
   "outputs": [],
   "source": [
    "embeddings_index = {};\n",
    "with open('../input/glove6b100dtxt/glove.6B.100d.txt') as f:\n",
    "    for line in f:\n",
    "        values = line.split();\n",
    "        word = values[0];\n",
    "        coefs = np.asarray(values[1:], dtype='float32');\n",
    "        embeddings_index[word] = coefs;\n",
    "\n",
    "embeddings_matrix = np.zeros((total_words, 100));\n",
    "for word, i in word_index.items():\n",
    "    embedding_vector = embeddings_index.get(word);\n",
    "    if embedding_vector is not None:\n",
    "        embeddings_matrix[i] = embedding_vector;"
   ]
  },
  {
   "cell_type": "markdown",
   "id": "3fa1c5d9",
   "metadata": {
    "papermill": {
     "duration": 0.026012,
     "end_time": "2022-03-28T13:05:04.843288",
     "exception": false,
     "start_time": "2022-03-28T13:05:04.817276",
     "status": "completed"
    },
    "tags": []
   },
   "source": [
    "Let us now build our model, composed of the Glove embedding, followed by a BiLSTM and Dense layers. We include Dropout and L2 regularizers. The final layer is a sigmoid because this is a binary classifcation task."
   ]
  },
  {
   "cell_type": "code",
   "execution_count": 8,
   "id": "d59a2359",
   "metadata": {
    "execution": {
     "iopub.execute_input": "2022-03-28T13:05:04.906618Z",
     "iopub.status.busy": "2022-03-28T13:05:04.905823Z",
     "iopub.status.idle": "2022-03-28T13:05:08.791559Z",
     "shell.execute_reply": "2022-03-28T13:05:08.790716Z",
     "shell.execute_reply.started": "2022-03-28T12:55:54.569601Z"
    },
    "papermill": {
     "duration": 3.922468,
     "end_time": "2022-03-28T13:05:08.791830",
     "exception": false,
     "start_time": "2022-03-28T13:05:04.869362",
     "status": "completed"
    },
    "tags": []
   },
   "outputs": [
    {
     "name": "stderr",
     "output_type": "stream",
     "text": [
      "2022-03-28 13:05:05.002952: I tensorflow/stream_executor/cuda/cuda_gpu_executor.cc:937] successful NUMA node read from SysFS had negative value (-1), but there must be at least one NUMA node, so returning NUMA node zero\n",
      "2022-03-28 13:05:05.129675: I tensorflow/stream_executor/cuda/cuda_gpu_executor.cc:937] successful NUMA node read from SysFS had negative value (-1), but there must be at least one NUMA node, so returning NUMA node zero\n",
      "2022-03-28 13:05:05.130864: I tensorflow/stream_executor/cuda/cuda_gpu_executor.cc:937] successful NUMA node read from SysFS had negative value (-1), but there must be at least one NUMA node, so returning NUMA node zero\n",
      "2022-03-28 13:05:05.132661: I tensorflow/core/platform/cpu_feature_guard.cc:142] This TensorFlow binary is optimized with oneAPI Deep Neural Network Library (oneDNN) to use the following CPU instructions in performance-critical operations:  AVX2 FMA\n",
      "To enable them in other operations, rebuild TensorFlow with the appropriate compiler flags.\n",
      "2022-03-28 13:05:05.135300: I tensorflow/stream_executor/cuda/cuda_gpu_executor.cc:937] successful NUMA node read from SysFS had negative value (-1), but there must be at least one NUMA node, so returning NUMA node zero\n",
      "2022-03-28 13:05:05.136429: I tensorflow/stream_executor/cuda/cuda_gpu_executor.cc:937] successful NUMA node read from SysFS had negative value (-1), but there must be at least one NUMA node, so returning NUMA node zero\n",
      "2022-03-28 13:05:05.137529: I tensorflow/stream_executor/cuda/cuda_gpu_executor.cc:937] successful NUMA node read from SysFS had negative value (-1), but there must be at least one NUMA node, so returning NUMA node zero\n",
      "2022-03-28 13:05:07.692245: I tensorflow/stream_executor/cuda/cuda_gpu_executor.cc:937] successful NUMA node read from SysFS had negative value (-1), but there must be at least one NUMA node, so returning NUMA node zero\n",
      "2022-03-28 13:05:07.693374: I tensorflow/stream_executor/cuda/cuda_gpu_executor.cc:937] successful NUMA node read from SysFS had negative value (-1), but there must be at least one NUMA node, so returning NUMA node zero\n",
      "2022-03-28 13:05:07.694396: I tensorflow/stream_executor/cuda/cuda_gpu_executor.cc:937] successful NUMA node read from SysFS had negative value (-1), but there must be at least one NUMA node, so returning NUMA node zero\n",
      "2022-03-28 13:05:07.695348: I tensorflow/core/common_runtime/gpu/gpu_device.cc:1510] Created device /job:localhost/replica:0/task:0/device:GPU:0 with 15403 MB memory:  -> device: 0, name: Tesla P100-PCIE-16GB, pci bus id: 0000:00:04.0, compute capability: 6.0\n"
     ]
    },
    {
     "name": "stdout",
     "output_type": "stream",
     "text": [
      "Model: \"sequential\"\n",
      "_________________________________________________________________\n",
      "Layer (type)                 Output Shape              Param #   \n",
      "=================================================================\n",
      "embedding (Embedding)        (None, 38, 100)           3073200   \n",
      "_________________________________________________________________\n",
      "dropout (Dropout)            (None, 38, 100)           0         \n",
      "_________________________________________________________________\n",
      "bidirectional (Bidirectional (None, 38, 128)           84480     \n",
      "_________________________________________________________________\n",
      "dropout_1 (Dropout)          (None, 38, 128)           0         \n",
      "_________________________________________________________________\n",
      "bidirectional_1 (Bidirection (None, 32)                18560     \n",
      "_________________________________________________________________\n",
      "dropout_2 (Dropout)          (None, 32)                0         \n",
      "_________________________________________________________________\n",
      "dense (Dense)                (None, 512)               16896     \n",
      "_________________________________________________________________\n",
      "dropout_3 (Dropout)          (None, 512)               0         \n",
      "_________________________________________________________________\n",
      "dense_1 (Dense)              (None, 256)               131328    \n",
      "_________________________________________________________________\n",
      "dropout_4 (Dropout)          (None, 256)               0         \n",
      "_________________________________________________________________\n",
      "dense_2 (Dense)              (None, 128)               32896     \n",
      "_________________________________________________________________\n",
      "dropout_5 (Dropout)          (None, 128)               0         \n",
      "_________________________________________________________________\n",
      "dense_3 (Dense)              (None, 64)                8256      \n",
      "_________________________________________________________________\n",
      "dropout_6 (Dropout)          (None, 64)                0         \n",
      "_________________________________________________________________\n",
      "dense_4 (Dense)              (None, 1)                 65        \n",
      "=================================================================\n",
      "Total params: 3,365,681\n",
      "Trainable params: 292,481\n",
      "Non-trainable params: 3,073,200\n",
      "_________________________________________________________________\n"
     ]
    }
   ],
   "source": [
    "model = Sequential([\n",
    "    Embedding(total_words, 100, input_length=max_sequence_len, weights=[embeddings_matrix], trainable=False),\n",
    "    Dropout(0.2),\n",
    "    Bidirectional(LSTM(64, return_sequences = True,\n",
    "                       activation=\"relu\",\n",
    "                       kernel_regularizer=regularizers.l2(0.01))),\n",
    "    Dropout(0.2),\n",
    "    Bidirectional(LSTM(16, return_sequences = False,\n",
    "                       activation=\"relu\",\n",
    "                       kernel_regularizer=regularizers.l2(0.01))),\n",
    "    Dropout(0.2),\n",
    "    Dense(512, activation='relu', kernel_regularizer=regularizers.l2(0.01)),\n",
    "    Dropout(0.2),\n",
    "    Dense(256, activation='relu', kernel_regularizer=regularizers.l2(0.01)),\n",
    "    Dropout(0.2),\n",
    "    Dense(128, activation='relu', kernel_regularizer=regularizers.l2(0.01)),\n",
    "    Dropout(0.2),\n",
    "    Dense(64, activation='relu', kernel_regularizer=regularizers.l2(0.01)),\n",
    "    Dropout(0.2),\n",
    "    Dense(1, activation='sigmoid'),\n",
    "    ])\n",
    "\n",
    "model.compile(loss='binary_crossentropy', \n",
    "              optimizer=tf.keras.optimizers.Adam(learning_rate=0.0001), \n",
    "              metrics=['accuracy'])\n",
    "\n",
    "model.summary()"
   ]
  },
  {
   "cell_type": "markdown",
   "id": "1e326fee",
   "metadata": {
    "papermill": {
     "duration": 0.027049,
     "end_time": "2022-03-28T13:05:08.862368",
     "exception": false,
     "start_time": "2022-03-28T13:05:08.835319",
     "status": "completed"
    },
    "tags": []
   },
   "source": [
    "The dataset is imbalanced because it contains much more examples targeted as 0. A good practice is therefore to weight the loss accordingly, so that we will give more importance to the examples targeted as 1 to compensate their sparsity."
   ]
  },
  {
   "cell_type": "code",
   "execution_count": 9,
   "id": "2dc850d1",
   "metadata": {
    "execution": {
     "iopub.execute_input": "2022-03-28T13:05:08.924411Z",
     "iopub.status.busy": "2022-03-28T13:05:08.923473Z",
     "iopub.status.idle": "2022-03-28T13:05:08.933674Z",
     "shell.execute_reply": "2022-03-28T13:05:08.933104Z",
     "shell.execute_reply.started": "2022-03-28T12:55:55.024484Z"
    },
    "papermill": {
     "duration": 0.04392,
     "end_time": "2022-03-28T13:05:08.933855",
     "exception": false,
     "start_time": "2022-03-28T13:05:08.889935",
     "status": "completed"
    },
    "tags": []
   },
   "outputs": [],
   "source": [
    "# Calculate the weights for each class so that we can balance the data\n",
    "weights = class_weight.compute_class_weight('balanced',\n",
    "                                            classes = np.unique(y_train),\n",
    "                                            y = y_train)\n",
    "weights= {key: value for key,value in enumerate(weights)}"
   ]
  },
  {
   "cell_type": "markdown",
   "id": "9482afa8",
   "metadata": {
    "papermill": {
     "duration": 0.027478,
     "end_time": "2022-03-28T13:05:08.988937",
     "exception": false,
     "start_time": "2022-03-28T13:05:08.961459",
     "status": "completed"
    },
    "tags": []
   },
   "source": [
    "We use an EarlyStopping callback during training:"
   ]
  },
  {
   "cell_type": "code",
   "execution_count": 10,
   "id": "ab59ea72",
   "metadata": {
    "execution": {
     "iopub.execute_input": "2022-03-28T13:05:09.050647Z",
     "iopub.status.busy": "2022-03-28T13:05:09.049710Z",
     "iopub.status.idle": "2022-03-28T13:05:09.054018Z",
     "shell.execute_reply": "2022-03-28T13:05:09.053383Z",
     "shell.execute_reply.started": "2022-03-28T12:55:55.037928Z"
    },
    "papermill": {
     "duration": 0.03762,
     "end_time": "2022-03-28T13:05:09.054184",
     "exception": false,
     "start_time": "2022-03-28T13:05:09.016564",
     "status": "completed"
    },
    "tags": []
   },
   "outputs": [],
   "source": [
    "EarlyStop = tf.keras.callbacks.EarlyStopping(monitor=\"val_loss\",min_delta=0,patience=200)"
   ]
  },
  {
   "cell_type": "markdown",
   "id": "98976337",
   "metadata": {
    "execution": {
     "iopub.execute_input": "2022-03-27T15:40:31.827042Z",
     "iopub.status.busy": "2022-03-27T15:40:31.826652Z",
     "iopub.status.idle": "2022-03-27T15:40:31.831787Z",
     "shell.execute_reply": "2022-03-27T15:40:31.830589Z",
     "shell.execute_reply.started": "2022-03-27T15:40:31.827013Z"
    },
    "papermill": {
     "duration": 0.027281,
     "end_time": "2022-03-28T13:05:09.108898",
     "exception": false,
     "start_time": "2022-03-28T13:05:09.081617",
     "status": "completed"
    },
    "tags": []
   },
   "source": [
    "Let us train our model:"
   ]
  },
  {
   "cell_type": "code",
   "execution_count": 11,
   "id": "d85ebf1a",
   "metadata": {
    "execution": {
     "iopub.execute_input": "2022-03-28T13:05:09.171488Z",
     "iopub.status.busy": "2022-03-28T13:05:09.170537Z",
     "iopub.status.idle": "2022-03-28T13:06:04.158674Z",
     "shell.execute_reply": "2022-03-28T13:06:04.158035Z",
     "shell.execute_reply.started": "2022-03-28T12:55:55.052346Z"
    },
    "papermill": {
     "duration": 55.021386,
     "end_time": "2022-03-28T13:06:04.158898",
     "exception": false,
     "start_time": "2022-03-28T13:05:09.137512",
     "status": "completed"
    },
    "tags": []
   },
   "outputs": [
    {
     "name": "stderr",
     "output_type": "stream",
     "text": [
      "2022-03-28 13:05:09.243598: I tensorflow/compiler/mlir/mlir_graph_optimization_pass.cc:185] None of the MLIR Optimization Passes are enabled (registered 2)\n"
     ]
    }
   ],
   "source": [
    "history = model.fit(X_train, y_train, \n",
    "                    epochs=1,\n",
    "                    batch_size=256, \n",
    "                    verbose=0, \n",
    "                    validation_data = (X_val, y_val),\n",
    "                   callbacks=[EarlyStop],\n",
    "                   class_weight=weights)\n",
    "\n"
   ]
  },
  {
   "cell_type": "markdown",
   "id": "742076b0",
   "metadata": {
    "papermill": {
     "duration": 0.028853,
     "end_time": "2022-03-28T13:06:04.217387",
     "exception": false,
     "start_time": "2022-03-28T13:06:04.188534",
     "status": "completed"
    },
    "tags": []
   },
   "source": [
    "We save our model and print the training history."
   ]
  },
  {
   "cell_type": "code",
   "execution_count": 12,
   "id": "4a6455dd",
   "metadata": {
    "execution": {
     "iopub.execute_input": "2022-03-28T13:06:04.287724Z",
     "iopub.status.busy": "2022-03-28T13:06:04.286899Z",
     "iopub.status.idle": "2022-03-28T13:06:04.792849Z",
     "shell.execute_reply": "2022-03-28T13:06:04.793378Z",
     "shell.execute_reply.started": "2022-03-28T12:56:31.190861Z"
    },
    "papermill": {
     "duration": 0.547874,
     "end_time": "2022-03-28T13:06:04.793554",
     "exception": false,
     "start_time": "2022-03-28T13:06:04.245680",
     "status": "completed"
    },
    "tags": []
   },
   "outputs": [
    {
     "data": {
      "image/png": "[encoded data removed]",
      "text/plain": [
       "<Figure size 432x288 with 1 Axes>"
      ]
     },
     "metadata": {
      "needs_background": "light"
     },
     "output_type": "display_data"
    },
    {
     "data": {
      "image/png": "[encoded data removed]",
      "text/plain": [
       "<Figure size 432x288 with 1 Axes>"
      ]
     },
     "metadata": {
      "needs_background": "light"
     },
     "output_type": "display_data"
    }
   ],
   "source": [
    "def print_save(model, history, name, save=True, plot=True):\n",
    "    \n",
    "    hist_df = pd.DataFrame(history.history)\n",
    "    \n",
    "    if save:\n",
    "        model.save(name)\n",
    "        hist_csv_file = name+'_history.csv'\n",
    "        with open(hist_csv_file, mode='w') as f:\n",
    "            hist_df.to_csv(f)\n",
    "    if plot:\n",
    "        hist_df[[\"loss\",'val_loss']][5:].plot()\n",
    "        hist_df[[\"accuracy\",'val_accuracy']].plot()\n",
    "        \n",
    "        \n",
    "        \n",
    "        \n",
    "print_save(model, history, 'model',save=False)"
   ]
  },
  {
   "cell_type": "markdown",
   "id": "13474cbd",
   "metadata": {
    "papermill": {
     "duration": 0.030083,
     "end_time": "2022-03-28T13:06:04.853374",
     "exception": false,
     "start_time": "2022-03-28T13:06:04.823291",
     "status": "completed"
    },
    "tags": []
   },
   "source": [
    "Let us finally compute the performances of our model and compare it to a baseline model that always predict the target \"0\"."
   ]
  },
  {
   "cell_type": "code",
   "execution_count": 13,
   "id": "f18909cd",
   "metadata": {
    "execution": {
     "iopub.execute_input": "2022-03-28T13:06:04.926645Z",
     "iopub.status.busy": "2022-03-28T13:06:04.925495Z",
     "iopub.status.idle": "2022-03-28T13:06:10.755345Z",
     "shell.execute_reply": "2022-03-28T13:06:10.756198Z",
     "shell.execute_reply.started": "2022-03-28T12:56:31.691011Z"
    },
    "papermill": {
     "duration": 5.872703,
     "end_time": "2022-03-28T13:06:10.756426",
     "exception": false,
     "start_time": "2022-03-28T13:06:04.883723",
     "status": "completed"
    },
    "tags": []
   },
   "outputs": [
    {
     "data": {
      "text/html": [
       "<div>\n",
       "<style scoped>\n",
       "    .dataframe tbody tr th:only-of-type {\n",
       "        vertical-align: middle;\n",
       "    }\n",
       "\n",
       "    .dataframe tbody tr th {\n",
       "        vertical-align: top;\n",
       "    }\n",
       "\n",
       "    .dataframe thead th {\n",
       "        text-align: right;\n",
       "    }\n",
       "</style>\n",
       "<table border=\"1\" class=\"dataframe\">\n",
       "  <thead>\n",
       "    <tr style=\"text-align: right;\">\n",
       "      <th></th>\n",
       "      <th>accuracy</th>\n",
       "      <th>precision</th>\n",
       "      <th>TN_ratio</th>\n",
       "      <th>FN_ratio</th>\n",
       "      <th>FP_ratio</th>\n",
       "      <th>TP_ratio</th>\n",
       "    </tr>\n",
       "  </thead>\n",
       "  <tbody>\n",
       "    <tr>\n",
       "      <th>prediction</th>\n",
       "      <td>0.226846</td>\n",
       "      <td>0.079626</td>\n",
       "      <td>0.160200</td>\n",
       "      <td>0.770338</td>\n",
       "      <td>0.002816</td>\n",
       "      <td>0.066646</td>\n",
       "    </tr>\n",
       "    <tr>\n",
       "      <th>baseline</th>\n",
       "      <td>0.930538</td>\n",
       "      <td>0.000000</td>\n",
       "      <td>0.930538</td>\n",
       "      <td>0.000000</td>\n",
       "      <td>0.069462</td>\n",
       "      <td>0.000000</td>\n",
       "    </tr>\n",
       "  </tbody>\n",
       "</table>\n",
       "</div>"
      ],
      "text/plain": [
       "            accuracy  precision  TN_ratio  FN_ratio  FP_ratio  TP_ratio\n",
       "prediction  0.226846   0.079626  0.160200  0.770338  0.002816  0.066646\n",
       "baseline    0.930538   0.000000  0.930538  0.000000  0.069462  0.000000"
      ]
     },
     "execution_count": 13,
     "metadata": {},
     "output_type": "execute_result"
    }
   ],
   "source": [
    "y_hat=tf.cast(model.predict(X_val)[:,0]>0.5, tf.float32).numpy()\n",
    "y_baseline = np.ones(len(y_val))* float(y_train.mean()>0.5)\n",
    "\n",
    "\n",
    "scores= pd.DataFrame()\n",
    "for name, y in {\"prediction\" : y_hat, \"baseline\" : y_baseline}.items():\n",
    "    accuracy = tf.keras.metrics.Accuracy()(y_val, y).numpy()\n",
    "    precision = tf.keras.metrics.Precision()(y_val, y).numpy()\n",
    "    cross_table = pd.crosstab(y_val,y,margins = False, normalize = True)\n",
    "    if name == \"prediction\":\n",
    "        TN_ratio, FN_ratio, FP_ratio, TP_ratio = cross_table.iloc[0,0], cross_table.iloc[0,1], cross_table.iloc[1,0], cross_table.iloc[1,1]\n",
    "    else:\n",
    "        TN_ratio, FN_ratio, FP_ratio, TP_ratio = cross_table.iloc[0,0],0., cross_table.iloc[1,0], 0.\n",
    "    \n",
    "    score = pd.Series({\"accuracy\": accuracy, \"precision\": precision,\n",
    "              \"TN_ratio\":TN_ratio, \"FN_ratio\":FN_ratio, \n",
    "               \"FP_ratio\":FP_ratio, \"TP_ratio\":TP_ratio}, name = name)\n",
    "    scores = scores.append(score)\n",
    "    \n",
    "scores\n",
    "\n"
   ]
  }
 ],
 "metadata": {
  "kernelspec": {
   "display_name": "Python 3",
   "language": "python",
   "name": "python3"
  },
  "language_info": {
   "codemirror_mode": {
    "name": "ipython",
    "version": 3
   },
   "file_extension": ".py",
   "mimetype": "text/x-python",
   "name": "python",
   "nbconvert_exporter": "python",
   "pygments_lexer": "ipython3",
   "version": "3.7.12"
  },
  "papermill": {
   "default_parameters": {},
   "duration": 116.080501,
   "end_time": "2022-03-28T13:06:13.947550",
   "environment_variables": {},
   "exception": null,
   "input_path": "__notebook__.ipynb",
   "output_path": "__notebook__.ipynb",
   "parameters": {},
   "start_time": "2022-03-28T13:04:17.867049",
   "version": "2.3.3"
  }
 },
 "nbformat": 4,
 "nbformat_minor": 5
}
