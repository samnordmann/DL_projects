{
 "cells": [
  {
   "cell_type": "markdown",
   "id": "562992f7",
   "metadata": {
    "papermill": {
     "duration": 0.01899,
     "end_time": "2022-03-28T11:57:20.905054",
     "exception": false,
     "start_time": "2022-03-28T11:57:20.886064",
     "status": "completed"
    },
    "tags": []
   },
   "source": [
    "In this notebook, we propose a simple but original implementation from scratch of an text classifier on a Twitter sentiment dataset. The goal is to detect hate tweets. The dataset is composed of +16k tweets belonging to 2 different classes.\n",
    "\n",
    "\n",
    "Our model uses the glove6b embedding of words followed by a Bidirectional LSTM and Dense layers.\n",
    "The performance of our algorithm is computed in the last cell of the notebook."
   ]
  },
  {
   "cell_type": "code",
   "execution_count": 1,
   "id": "92a7df73",
   "metadata": {
    "execution": {
     "iopub.execute_input": "2022-03-28T11:57:20.957360Z",
     "iopub.status.busy": "2022-03-28T11:57:20.956612Z",
     "iopub.status.idle": "2022-03-28T11:57:27.281054Z",
     "shell.execute_reply": "2022-03-28T11:57:27.281553Z",
     "shell.execute_reply.started": "2022-03-27T15:22:24.741022Z"
    },
    "papermill": {
     "duration": 6.355703,
     "end_time": "2022-03-28T11:57:27.281804",
     "exception": false,
     "start_time": "2022-03-28T11:57:20.926101",
     "status": "completed"
    },
    "tags": []
   },
   "outputs": [
    {
     "name": "stdout",
     "output_type": "stream",
     "text": [
      "[nltk_data] Downloading package stopwords to /usr/share/nltk_data...\n",
      "[nltk_data]   Package stopwords is already up-to-date!\n",
      "2.6.2\n"
     ]
    }
   ],
   "source": [
    "import numpy as np\n",
    "import pandas as pd\n",
    "import tensorflow as tf\n",
    "import tensorflow.keras.utils as ku \n",
    "import tensorflow_hub as hub\n",
    "\n",
    "from tensorflow.keras.models import Sequential\n",
    "from tensorflow.keras import regularizers\n",
    "from tensorflow.keras.layers import Embedding, LSTM, Dense, Dropout, Bidirectional\n",
    "from tensorflow.keras.preprocessing.text import Tokenizer\n",
    "from tensorflow.keras.preprocessing.sequence import pad_sequences\n",
    "\n",
    "from sklearn.utils import class_weight\n",
    "\n",
    "import re\n",
    "import nltk\n",
    "from nltk.stem.porter import PorterStemmer\n",
    "from nltk.corpus import stopwords\n",
    "nltk.download('stopwords')\n",
    "stop_words = set(stopwords.words('english'))\n",
    "\n",
    "\n",
    "print(tf.__version__)"
   ]
  },
  {
   "cell_type": "markdown",
   "id": "04a75195",
   "metadata": {
    "papermill": {
     "duration": 0.018018,
     "end_time": "2022-03-28T11:57:27.318864",
     "exception": false,
     "start_time": "2022-03-28T11:57:27.300846",
     "status": "completed"
    },
    "tags": []
   },
   "source": [
    "Let us load the dataset:"
   ]
  },
  {
   "cell_type": "code",
   "execution_count": 2,
   "id": "628a978b",
   "metadata": {
    "execution": {
     "iopub.execute_input": "2022-03-28T11:57:27.359167Z",
     "iopub.status.busy": "2022-03-28T11:57:27.358609Z",
     "iopub.status.idle": "2022-03-28T11:57:27.470153Z",
     "shell.execute_reply": "2022-03-28T11:57:27.469704Z",
     "shell.execute_reply.started": "2022-03-27T15:23:51.165903Z"
    },
    "papermill": {
     "duration": 0.133439,
     "end_time": "2022-03-28T11:57:27.470307",
     "exception": false,
     "start_time": "2022-03-28T11:57:27.336868",
     "status": "completed"
    },
    "tags": []
   },
   "outputs": [],
   "source": [
    "data=pd.read_csv('../input/twitter-sentiment-analysis-hatred-speech/train.csv',\n",
    "                 index_col= \"id\")"
   ]
  },
  {
   "cell_type": "markdown",
   "id": "cb6975d0",
   "metadata": {
    "papermill": {
     "duration": 0.018155,
     "end_time": "2022-03-28T11:57:27.507292",
     "exception": false,
     "start_time": "2022-03-28T11:57:27.489137",
     "status": "completed"
    },
    "tags": []
   },
   "source": [
    "and explore the first rows:"
   ]
  },
  {
   "cell_type": "code",
   "execution_count": 3,
   "id": "8fa6288f",
   "metadata": {
    "execution": {
     "iopub.execute_input": "2022-03-28T11:57:27.549254Z",
     "iopub.status.busy": "2022-03-28T11:57:27.548577Z",
     "iopub.status.idle": "2022-03-28T11:57:27.557646Z",
     "shell.execute_reply": "2022-03-28T11:57:27.558068Z",
     "shell.execute_reply.started": "2022-03-27T15:24:44.300541Z"
    },
    "papermill": {
     "duration": 0.032857,
     "end_time": "2022-03-28T11:57:27.558196",
     "exception": false,
     "start_time": "2022-03-28T11:57:27.525339",
     "status": "completed"
    },
    "tags": []
   },
   "outputs": [
    {
     "data": {
      "text/html": [
       "<div>\n",
       "<style scoped>\n",
       "    .dataframe tbody tr th:only-of-type {\n",
       "        vertical-align: middle;\n",
       "    }\n",
       "\n",
       "    .dataframe tbody tr th {\n",
       "        vertical-align: top;\n",
       "    }\n",
       "\n",
       "    .dataframe thead th {\n",
       "        text-align: right;\n",
       "    }\n",
       "</style>\n",
       "<table border=\"1\" class=\"dataframe\">\n",
       "  <thead>\n",
       "    <tr style=\"text-align: right;\">\n",
       "      <th></th>\n",
       "      <th>label</th>\n",
       "      <th>tweet</th>\n",
       "    </tr>\n",
       "    <tr>\n",
       "      <th>id</th>\n",
       "      <th></th>\n",
       "      <th></th>\n",
       "    </tr>\n",
       "  </thead>\n",
       "  <tbody>\n",
       "    <tr>\n",
       "      <th>1</th>\n",
       "      <td>0</td>\n",
       "      <td>@user when a father is dysfunctional and is s...</td>\n",
       "    </tr>\n",
       "    <tr>\n",
       "      <th>2</th>\n",
       "      <td>0</td>\n",
       "      <td>@user @user thanks for #lyft credit i can't us...</td>\n",
       "    </tr>\n",
       "    <tr>\n",
       "      <th>3</th>\n",
       "      <td>0</td>\n",
       "      <td>bihday your majesty</td>\n",
       "    </tr>\n",
       "    <tr>\n",
       "      <th>4</th>\n",
       "      <td>0</td>\n",
       "      <td>#model   i love u take with u all the time in ...</td>\n",
       "    </tr>\n",
       "    <tr>\n",
       "      <th>5</th>\n",
       "      <td>0</td>\n",
       "      <td>factsguide: society now    #motivation</td>\n",
       "    </tr>\n",
       "  </tbody>\n",
       "</table>\n",
       "</div>"
      ],
      "text/plain": [
       "    label                                              tweet\n",
       "id                                                          \n",
       "1       0   @user when a father is dysfunctional and is s...\n",
       "2       0  @user @user thanks for #lyft credit i can't us...\n",
       "3       0                                bihday your majesty\n",
       "4       0  #model   i love u take with u all the time in ...\n",
       "5       0             factsguide: society now    #motivation"
      ]
     },
     "execution_count": 3,
     "metadata": {},
     "output_type": "execute_result"
    }
   ],
   "source": [
    "data.head()"
   ]
  },
  {
   "cell_type": "markdown",
   "id": "19118042",
   "metadata": {
    "papermill": {
     "duration": 0.018361,
     "end_time": "2022-03-28T11:57:27.597156",
     "exception": false,
     "start_time": "2022-03-28T11:57:27.578795",
     "status": "completed"
    },
    "tags": []
   },
   "source": [
    "Let us proceed to a simple pre processing of the tweets by stemming, removing stop words and abbreviations."
   ]
  },
  {
   "cell_type": "code",
   "execution_count": 4,
   "id": "8d46801f",
   "metadata": {
    "execution": {
     "iopub.execute_input": "2022-03-28T11:57:27.648084Z",
     "iopub.status.busy": "2022-03-28T11:57:27.647153Z",
     "iopub.status.idle": "2022-03-28T11:57:36.154440Z",
     "shell.execute_reply": "2022-03-28T11:57:36.153947Z",
     "shell.execute_reply.started": "2022-03-27T15:34:58.215103Z"
    },
    "papermill": {
     "duration": 8.538829,
     "end_time": "2022-03-28T11:57:36.154589",
     "exception": false,
     "start_time": "2022-03-28T11:57:27.615760",
     "status": "completed"
    },
    "tags": []
   },
   "outputs": [],
   "source": [
    "# This preprocessing is inspired from the notebook https://www.kaggle.com/rashmimanwani/twitter-sentiment-analysis-bidirectional-lstm\n",
    "import re\n",
    "def clean_text(text):\n",
    "    text = text.lower()\n",
    "    text = re.sub(r\"#\", \" \", text)\n",
    "    text = re.sub(r\"what's\", \"what is \", text)\n",
    "    text = re.sub(r\"\\'s\", \" \", text)\n",
    "    text = re.sub(r\"\\'ve\", \" have \", text)\n",
    "    text = re.sub(r\"can't\", \"can not \", text)\n",
    "    text = re.sub(r\"n't\", \" not \", text)\n",
    "    text = re.sub(r\"i'm\", \"i am \", text)\n",
    "    text = re.sub(r\"\\'re\", \" are \", text)\n",
    "    text = re.sub(r\"\\'d\", \" would \", text)\n",
    "    text = re.sub(r\"\\'ll\", \" will \", text)\n",
    "    text = re.sub(r\"\\'scuse\", \" excuse \", text)\n",
    "    text = re.sub('\\W', ' ', text)\n",
    "    text = re.sub('\\s+', ' ', text)\n",
    "    text = re.sub('[^A-Za-z0-9]+', ' ', text)\n",
    "    text = text.strip(' ')\n",
    "    return text\n",
    "\n",
    "data['tweet'] = data['tweet'].map(lambda t: clean_text(t))\n",
    "\n",
    "\n",
    "    \n",
    "stemmer=PorterStemmer()\n",
    "def stem_remove_sw(df,text_col):\n",
    "    corpus = []\n",
    "    for i in range(len(df)):\n",
    "        review = str(df[text_col][i+1])\n",
    "        review = review.split()\n",
    "        review = [stemmer.stem(word) for word in review if word not in stop_words]\n",
    "        review = \" \".join(review)\n",
    "        corpus.append(review)\n",
    "    return corpus\n",
    "\n",
    "Tweets = stem_remove_sw(data, 'tweet')\n",
    "y=data.label"
   ]
  },
  {
   "cell_type": "markdown",
   "id": "658be3b6",
   "metadata": {
    "papermill": {
     "duration": 0.018587,
     "end_time": "2022-03-28T11:57:36.192335",
     "exception": false,
     "start_time": "2022-03-28T11:57:36.173748",
     "status": "completed"
    },
    "tags": []
   },
   "source": [
    "We now split the dataset into train and validation datasets:"
   ]
  },
  {
   "cell_type": "code",
   "execution_count": 5,
   "id": "7111cae5",
   "metadata": {
    "execution": {
     "iopub.execute_input": "2022-03-28T11:57:36.235034Z",
     "iopub.status.busy": "2022-03-28T11:57:36.234200Z",
     "iopub.status.idle": "2022-03-28T11:57:36.236004Z",
     "shell.execute_reply": "2022-03-28T11:57:36.236425Z",
     "shell.execute_reply.started": "2022-03-27T15:35:16.404797Z"
    },
    "papermill": {
     "duration": 0.025649,
     "end_time": "2022-03-28T11:57:36.236558",
     "exception": false,
     "start_time": "2022-03-28T11:57:36.210909",
     "status": "completed"
    },
    "tags": []
   },
   "outputs": [],
   "source": [
    "# We divide the dataset into train and validation datasets\n",
    "split = 0.1\n",
    "i_split = int(len(Tweets)*split)\n",
    "Tweets_val = Tweets[:i_split]\n",
    "y_val = y[:i_split]\n",
    "Tweets_train = Tweets[i_split:]\n",
    "y_train = y[i_split:]\n"
   ]
  },
  {
   "cell_type": "markdown",
   "id": "60f5d2a0",
   "metadata": {
    "papermill": {
     "duration": 0.018309,
     "end_time": "2022-03-28T11:57:36.273917",
     "exception": false,
     "start_time": "2022-03-28T11:57:36.255608",
     "status": "completed"
    },
    "tags": []
   },
   "source": [
    "Let us format the input data by tokenizing the words and padding the sequences to a fixed length"
   ]
  },
  {
   "cell_type": "code",
   "execution_count": 6,
   "id": "47f2c670",
   "metadata": {
    "execution": {
     "iopub.execute_input": "2022-03-28T11:57:36.319121Z",
     "iopub.status.busy": "2022-03-28T11:57:36.318353Z",
     "iopub.status.idle": "2022-03-28T11:57:37.220237Z",
     "shell.execute_reply": "2022-03-28T11:57:37.219579Z",
     "shell.execute_reply.started": "2022-03-27T15:36:09.41464Z"
    },
    "papermill": {
     "duration": 0.927957,
     "end_time": "2022-03-28T11:57:37.220416",
     "exception": false,
     "start_time": "2022-03-28T11:57:36.292459",
     "status": "completed"
    },
    "tags": []
   },
   "outputs": [
    {
     "name": "stdout",
     "output_type": "stream",
     "text": [
      "30732\n",
      "(28766, 38)\n"
     ]
    }
   ],
   "source": [
    "#We use a Tokenizer to transform each tweet in a sequence of token integers.\n",
    "tokenizer = Tokenizer()\n",
    "tokenizer.fit_on_texts(Tweets_train)\n",
    "X = tokenizer.texts_to_sequences(Tweets)\n",
    "total_words = len(tokenizer.word_index) + 1\n",
    "word_index = tokenizer.word_index\n",
    "\n",
    "\n",
    "# We pad the sequences to match the maximal sequence length of the training set\n",
    "max_sequence_len = max([len(x) for x in X[i_split:]])\n",
    "X = np.array(pad_sequences(X, maxlen=max_sequence_len, padding='pre'))\n",
    "\n",
    "#We divide X between training and validation sets\n",
    "X_val = X[:i_split]\n",
    "X_train = X[i_split:]\n",
    "\n",
    "print(total_words)\n",
    "print(X_train.shape)"
   ]
  },
  {
   "cell_type": "markdown",
   "id": "3c500a3d",
   "metadata": {
    "papermill": {
     "duration": 0.019147,
     "end_time": "2022-03-28T11:57:37.259028",
     "exception": false,
     "start_time": "2022-03-28T11:57:37.239881",
     "status": "completed"
    },
    "tags": []
   },
   "source": [
    "Now, we import the Glove word embedding as a matrix"
   ]
  },
  {
   "cell_type": "code",
   "execution_count": 7,
   "id": "2c8be078",
   "metadata": {
    "execution": {
     "iopub.execute_input": "2022-03-28T11:57:37.302147Z",
     "iopub.status.busy": "2022-03-28T11:57:37.301637Z",
     "iopub.status.idle": "2022-03-28T11:57:49.391380Z",
     "shell.execute_reply": "2022-03-28T11:57:49.391825Z",
     "shell.execute_reply.started": "2022-03-27T15:37:02.27271Z"
    },
    "papermill": {
     "duration": 12.114174,
     "end_time": "2022-03-28T11:57:49.391991",
     "exception": false,
     "start_time": "2022-03-28T11:57:37.277817",
     "status": "completed"
    },
    "tags": []
   },
   "outputs": [],
   "source": [
    "embeddings_index = {};\n",
    "with open('../input/glove6b100dtxt/glove.6B.100d.txt') as f:\n",
    "    for line in f:\n",
    "        values = line.split();\n",
    "        word = values[0];\n",
    "        coefs = np.asarray(values[1:], dtype='float32');\n",
    "        embeddings_index[word] = coefs;\n",
    "\n",
    "embeddings_matrix = np.zeros((total_words, 100));\n",
    "for word, i in word_index.items():\n",
    "    embedding_vector = embeddings_index.get(word);\n",
    "    if embedding_vector is not None:\n",
    "        embeddings_matrix[i] = embedding_vector;"
   ]
  },
  {
   "cell_type": "markdown",
   "id": "70bbd10a",
   "metadata": {
    "papermill": {
     "duration": 0.018934,
     "end_time": "2022-03-28T11:57:49.430098",
     "exception": false,
     "start_time": "2022-03-28T11:57:49.411164",
     "status": "completed"
    },
    "tags": []
   },
   "source": [
    "Let us now build our model, composed of the Glove embedding, followed by a BiLSTM and Dense layers. We include Dropout and L2 regularizers. The final layer is a sigmoid because this is a binary classifcation task."
   ]
  },
  {
   "cell_type": "code",
   "execution_count": 8,
   "id": "8574744e",
   "metadata": {
    "execution": {
     "iopub.execute_input": "2022-03-28T11:57:49.475700Z",
     "iopub.status.busy": "2022-03-28T11:57:49.475145Z",
     "iopub.status.idle": "2022-03-28T11:57:52.092033Z",
     "shell.execute_reply": "2022-03-28T11:57:52.092490Z",
     "shell.execute_reply.started": "2022-03-27T15:37:41.655826Z"
    },
    "papermill": {
     "duration": 2.643659,
     "end_time": "2022-03-28T11:57:52.092650",
     "exception": false,
     "start_time": "2022-03-28T11:57:49.448991",
     "status": "completed"
    },
    "tags": []
   },
   "outputs": [
    {
     "name": "stderr",
     "output_type": "stream",
     "text": [
      "2022-03-28 11:57:49.555377: I tensorflow/stream_executor/cuda/cuda_gpu_executor.cc:937] successful NUMA node read from SysFS had negative value (-1), but there must be at least one NUMA node, so returning NUMA node zero\n",
      "2022-03-28 11:57:49.670146: I tensorflow/stream_executor/cuda/cuda_gpu_executor.cc:937] successful NUMA node read from SysFS had negative value (-1), but there must be at least one NUMA node, so returning NUMA node zero\n",
      "2022-03-28 11:57:49.670890: I tensorflow/stream_executor/cuda/cuda_gpu_executor.cc:937] successful NUMA node read from SysFS had negative value (-1), but there must be at least one NUMA node, so returning NUMA node zero\n",
      "2022-03-28 11:57:49.672046: I tensorflow/core/platform/cpu_feature_guard.cc:142] This TensorFlow binary is optimized with oneAPI Deep Neural Network Library (oneDNN) to use the following CPU instructions in performance-critical operations:  AVX2 AVX512F FMA\n",
      "To enable them in other operations, rebuild TensorFlow with the appropriate compiler flags.\n",
      "2022-03-28 11:57:49.673107: I tensorflow/stream_executor/cuda/cuda_gpu_executor.cc:937] successful NUMA node read from SysFS had negative value (-1), but there must be at least one NUMA node, so returning NUMA node zero\n",
      "2022-03-28 11:57:49.673813: I tensorflow/stream_executor/cuda/cuda_gpu_executor.cc:937] successful NUMA node read from SysFS had negative value (-1), but there must be at least one NUMA node, so returning NUMA node zero\n",
      "2022-03-28 11:57:49.674432: I tensorflow/stream_executor/cuda/cuda_gpu_executor.cc:937] successful NUMA node read from SysFS had negative value (-1), but there must be at least one NUMA node, so returning NUMA node zero\n",
      "2022-03-28 11:57:51.341733: I tensorflow/stream_executor/cuda/cuda_gpu_executor.cc:937] successful NUMA node read from SysFS had negative value (-1), but there must be at least one NUMA node, so returning NUMA node zero\n",
      "2022-03-28 11:57:51.342588: I tensorflow/stream_executor/cuda/cuda_gpu_executor.cc:937] successful NUMA node read from SysFS had negative value (-1), but there must be at least one NUMA node, so returning NUMA node zero\n",
      "2022-03-28 11:57:51.343285: I tensorflow/stream_executor/cuda/cuda_gpu_executor.cc:937] successful NUMA node read from SysFS had negative value (-1), but there must be at least one NUMA node, so returning NUMA node zero\n",
      "2022-03-28 11:57:51.343883: I tensorflow/core/common_runtime/gpu/gpu_device.cc:1510] Created device /job:localhost/replica:0/task:0/device:GPU:0 with 15403 MB memory:  -> device: 0, name: Tesla P100-PCIE-16GB, pci bus id: 0000:00:04.0, compute capability: 6.0\n"
     ]
    },
    {
     "name": "stdout",
     "output_type": "stream",
     "text": [
      "Model: \"sequential\"\n",
      "_________________________________________________________________\n",
      "Layer (type)                 Output Shape              Param #   \n",
      "=================================================================\n",
      "embedding (Embedding)        (None, 38, 100)           3073200   \n",
      "_________________________________________________________________\n",
      "dropout (Dropout)            (None, 38, 100)           0         \n",
      "_________________________________________________________________\n",
      "bidirectional (Bidirectional (None, 256)               234496    \n",
      "_________________________________________________________________\n",
      "dropout_1 (Dropout)          (None, 256)               0         \n",
      "_________________________________________________________________\n",
      "dense (Dense)                (None, 512)               131584    \n",
      "_________________________________________________________________\n",
      "dropout_2 (Dropout)          (None, 512)               0         \n",
      "_________________________________________________________________\n",
      "dense_1 (Dense)              (None, 256)               131328    \n",
      "_________________________________________________________________\n",
      "dropout_3 (Dropout)          (None, 256)               0         \n",
      "_________________________________________________________________\n",
      "dense_2 (Dense)              (None, 128)               32896     \n",
      "_________________________________________________________________\n",
      "dropout_4 (Dropout)          (None, 128)               0         \n",
      "_________________________________________________________________\n",
      "dense_3 (Dense)              (None, 64)                8256      \n",
      "_________________________________________________________________\n",
      "dropout_5 (Dropout)          (None, 64)                0         \n",
      "_________________________________________________________________\n",
      "dense_4 (Dense)              (None, 1)                 65        \n",
      "=================================================================\n",
      "Total params: 3,611,825\n",
      "Trainable params: 538,625\n",
      "Non-trainable params: 3,073,200\n",
      "_________________________________________________________________\n"
     ]
    }
   ],
   "source": [
    "model = Sequential([\n",
    "    Embedding(total_words, 100, input_length=max_sequence_len, weights=[embeddings_matrix], trainable=False),\n",
    "    Dropout(0.2),\n",
    "    Bidirectional(LSTM(128, return_sequences = False,\n",
    "                       activation=\"relu\",\n",
    "                       kernel_regularizer=regularizers.l2(0.01))),\n",
    "    Dropout(0.2),\n",
    "    Dense(512, activation='relu', kernel_regularizer=regularizers.l2(0.01)),\n",
    "    Dropout(0.2),\n",
    "    Dense(256, activation='relu', kernel_regularizer=regularizers.l2(0.01)),\n",
    "    Dropout(0.2),\n",
    "    Dense(128, activation='relu', kernel_regularizer=regularizers.l2(0.01)),\n",
    "    Dropout(0.2),\n",
    "    Dense(64, activation='relu', kernel_regularizer=regularizers.l2(0.01)),\n",
    "    Dropout(0.2),\n",
    "    Dense(1, activation='sigmoid'),\n",
    "    ])\n",
    "\n",
    "model.compile(loss='binary_crossentropy', \n",
    "              optimizer=tf.keras.optimizers.Adam(learning_rate=0.0001), \n",
    "              metrics=['accuracy'])\n",
    "\n",
    "model.summary()"
   ]
  },
  {
   "cell_type": "markdown",
   "id": "e7277f3a",
   "metadata": {
    "papermill": {
     "duration": 0.019682,
     "end_time": "2022-03-28T11:57:52.132492",
     "exception": false,
     "start_time": "2022-03-28T11:57:52.112810",
     "status": "completed"
    },
    "tags": []
   },
   "source": [
    "The dataset is imbalanced because it contains much more examples targeted as 0. A good practice is therefore to weight the loss accordingly, so that we will give more importance to the examples targeted as 1 to compensate their sparsity."
   ]
  },
  {
   "cell_type": "code",
   "execution_count": 9,
   "id": "c1da4893",
   "metadata": {
    "execution": {
     "iopub.execute_input": "2022-03-28T11:57:52.176785Z",
     "iopub.status.busy": "2022-03-28T11:57:52.176076Z",
     "iopub.status.idle": "2022-03-28T11:57:52.183713Z",
     "shell.execute_reply": "2022-03-28T11:57:52.183249Z",
     "shell.execute_reply.started": "2022-03-27T15:39:57.122797Z"
    },
    "papermill": {
     "duration": 0.031747,
     "end_time": "2022-03-28T11:57:52.183819",
     "exception": false,
     "start_time": "2022-03-28T11:57:52.152072",
     "status": "completed"
    },
    "tags": []
   },
   "outputs": [],
   "source": [
    "# Calculate the weights for each class so that we can balance the data\n",
    "weights = class_weight.compute_class_weight('balanced',\n",
    "                                            classes = np.unique(y_train),\n",
    "                                            y = y_train)\n",
    "weights= {key: value for key,value in enumerate(weights)}"
   ]
  },
  {
   "cell_type": "markdown",
   "id": "9714c003",
   "metadata": {
    "papermill": {
     "duration": 0.019353,
     "end_time": "2022-03-28T11:57:52.223579",
     "exception": false,
     "start_time": "2022-03-28T11:57:52.204226",
     "status": "completed"
    },
    "tags": []
   },
   "source": [
    "We use an EarlyStopping callback during training:"
   ]
  },
  {
   "cell_type": "code",
   "execution_count": 10,
   "id": "eecafc57",
   "metadata": {
    "execution": {
     "iopub.execute_input": "2022-03-28T11:57:52.268208Z",
     "iopub.status.busy": "2022-03-28T11:57:52.266641Z",
     "iopub.status.idle": "2022-03-28T11:57:52.268805Z",
     "shell.execute_reply": "2022-03-28T11:57:52.269198Z",
     "shell.execute_reply.started": "2022-03-27T15:40:23.79477Z"
    },
    "papermill": {
     "duration": 0.02593,
     "end_time": "2022-03-28T11:57:52.269353",
     "exception": false,
     "start_time": "2022-03-28T11:57:52.243423",
     "status": "completed"
    },
    "tags": []
   },
   "outputs": [],
   "source": [
    "EarlyStop = tf.keras.callbacks.EarlyStopping(monitor=\"val_loss\",min_delta=0,patience=50)"
   ]
  },
  {
   "cell_type": "markdown",
   "id": "d78f8afa",
   "metadata": {
    "execution": {
     "iopub.execute_input": "2022-03-27T15:40:31.827042Z",
     "iopub.status.busy": "2022-03-27T15:40:31.826652Z",
     "iopub.status.idle": "2022-03-27T15:40:31.831787Z",
     "shell.execute_reply": "2022-03-27T15:40:31.830589Z",
     "shell.execute_reply.started": "2022-03-27T15:40:31.827013Z"
    },
    "papermill": {
     "duration": 0.019232,
     "end_time": "2022-03-28T11:57:52.308199",
     "exception": false,
     "start_time": "2022-03-28T11:57:52.288967",
     "status": "completed"
    },
    "tags": []
   },
   "source": [
    "Let us train our model:"
   ]
  },
  {
   "cell_type": "code",
   "execution_count": 11,
   "id": "0c53f5a0",
   "metadata": {
    "execution": {
     "iopub.execute_input": "2022-03-28T11:57:52.352608Z",
     "iopub.status.busy": "2022-03-28T11:57:52.352079Z",
     "iopub.status.idle": "2022-03-28T12:32:46.957154Z",
     "shell.execute_reply": "2022-03-28T12:32:46.957809Z",
     "shell.execute_reply.started": "2022-03-08T00:47:25.448091Z"
    },
    "papermill": {
     "duration": 2094.629921,
     "end_time": "2022-03-28T12:32:46.958052",
     "exception": false,
     "start_time": "2022-03-28T11:57:52.328131",
     "status": "completed"
    },
    "tags": []
   },
   "outputs": [
    {
     "name": "stderr",
     "output_type": "stream",
     "text": [
      "2022-03-28 11:57:52.409658: I tensorflow/compiler/mlir/mlir_graph_optimization_pass.cc:185] None of the MLIR Optimization Passes are enabled (registered 2)\n"
     ]
    }
   ],
   "source": [
    "history = model.fit(X_train, y_train, \n",
    "                    epochs=500,\n",
    "                    batch_size=256, \n",
    "                    verbose=0, \n",
    "                    validation_data = (X_val, y_val),\n",
    "                   callbacks=[EarlyStop],\n",
    "                   class_weight=weights)\n",
    "\n"
   ]
  },
  {
   "cell_type": "markdown",
   "id": "48e5086c",
   "metadata": {
    "papermill": {
     "duration": 0.034378,
     "end_time": "2022-03-28T12:32:47.029187",
     "exception": false,
     "start_time": "2022-03-28T12:32:46.994809",
     "status": "completed"
    },
    "tags": []
   },
   "source": [
    "We save our model and print the training history."
   ]
  },
  {
   "cell_type": "code",
   "execution_count": 12,
   "id": "85695735",
   "metadata": {
    "execution": {
     "iopub.execute_input": "2022-03-28T12:32:47.114395Z",
     "iopub.status.busy": "2022-03-28T12:32:47.107337Z",
     "iopub.status.idle": "2022-03-28T12:33:16.941473Z",
     "shell.execute_reply": "2022-03-28T12:33:16.941892Z",
     "shell.execute_reply.started": "2022-03-08T00:48:00.579956Z"
    },
    "papermill": {
     "duration": 29.878551,
     "end_time": "2022-03-28T12:33:16.942047",
     "exception": false,
     "start_time": "2022-03-28T12:32:47.063496",
     "status": "completed"
    },
    "tags": []
   },
   "outputs": [
    {
     "data": {
      "image/png": "[encoded data removed]",
      "text/plain": [
       "<Figure size 432x288 with 1 Axes>"
      ]
     },
     "metadata": {
      "needs_background": "light"
     },
     "output_type": "display_data"
    },
    {
     "data": {
      "image/png": "[encoded data removed]",
      "text/plain": [
       "<Figure size 432x288 with 1 Axes>"
      ]
     },
     "metadata": {
      "needs_background": "light"
     },
     "output_type": "display_data"
    }
   ],
   "source": [
    "def print_save(model, history, name, save=True, plot=True):\n",
    "    \n",
    "    hist_df = pd.DataFrame(history.history)\n",
    "    \n",
    "    if save:\n",
    "        model.save(name)\n",
    "        hist_csv_file = name+'_history.csv'\n",
    "        with open(hist_csv_file, mode='w') as f:\n",
    "            hist_df.to_csv(f)\n",
    "    if plot:\n",
    "        hist_df[[\"loss\",'val_loss']][5:].plot()\n",
    "        hist_df[[\"accuracy\",'val_accuracy']].plot()\n",
    "        \n",
    "        \n",
    "        \n",
    "        \n",
    "print_save(model, history, 'model',save=False)"
   ]
  },
  {
   "cell_type": "markdown",
   "id": "1265b4fb",
   "metadata": {
    "papermill": {
     "duration": 0.024226,
     "end_time": "2022-03-28T12:33:16.991774",
     "exception": false,
     "start_time": "2022-03-28T12:33:16.967548",
     "status": "completed"
    },
    "tags": []
   },
   "source": [
    "Let us finally compute the performances of our model and compare it to a baseline model that always predict the target \"0\"."
   ]
  },
  {
   "cell_type": "code",
   "execution_count": 13,
   "id": "2206f244",
   "metadata": {
    "execution": {
     "iopub.execute_input": "2022-03-28T12:33:17.047676Z",
     "iopub.status.busy": "2022-03-28T12:33:17.046844Z",
     "iopub.status.idle": "2022-03-28T12:33:18.349844Z",
     "shell.execute_reply": "2022-03-28T12:33:18.350215Z",
     "shell.execute_reply.started": "2022-03-08T00:48:00.941565Z"
    },
    "papermill": {
     "duration": 1.335346,
     "end_time": "2022-03-28T12:33:18.350383",
     "exception": false,
     "start_time": "2022-03-28T12:33:17.015037",
     "status": "completed"
    },
    "tags": []
   },
   "outputs": [
    {
     "data": {
      "text/html": [
       "<div>\n",
       "<style scoped>\n",
       "    .dataframe tbody tr th:only-of-type {\n",
       "        vertical-align: middle;\n",
       "    }\n",
       "\n",
       "    .dataframe tbody tr th {\n",
       "        vertical-align: top;\n",
       "    }\n",
       "\n",
       "    .dataframe thead th {\n",
       "        text-align: right;\n",
       "    }\n",
       "</style>\n",
       "<table border=\"1\" class=\"dataframe\">\n",
       "  <thead>\n",
       "    <tr style=\"text-align: right;\">\n",
       "      <th></th>\n",
       "      <th>accuracy</th>\n",
       "      <th>precision</th>\n",
       "      <th>TN_ratio</th>\n",
       "      <th>FN_ratio</th>\n",
       "      <th>FP_ratio</th>\n",
       "      <th>TP_ratio</th>\n",
       "    </tr>\n",
       "  </thead>\n",
       "  <tbody>\n",
       "    <tr>\n",
       "      <th>prediction</th>\n",
       "      <td>0.879224</td>\n",
       "      <td>0.353047</td>\n",
       "      <td>0.817584</td>\n",
       "      <td>0.112954</td>\n",
       "      <td>0.007822</td>\n",
       "      <td>0.06164</td>\n",
       "    </tr>\n",
       "    <tr>\n",
       "      <th>baseline</th>\n",
       "      <td>0.930538</td>\n",
       "      <td>0.000000</td>\n",
       "      <td>0.930538</td>\n",
       "      <td>0.000000</td>\n",
       "      <td>0.069462</td>\n",
       "      <td>0.00000</td>\n",
       "    </tr>\n",
       "  </tbody>\n",
       "</table>\n",
       "</div>"
      ],
      "text/plain": [
       "            accuracy  precision  TN_ratio  FN_ratio  FP_ratio  TP_ratio\n",
       "prediction  0.879224   0.353047  0.817584  0.112954  0.007822   0.06164\n",
       "baseline    0.930538   0.000000  0.930538  0.000000  0.069462   0.00000"
      ]
     },
     "execution_count": 13,
     "metadata": {},
     "output_type": "execute_result"
    }
   ],
   "source": [
    "y_hat=tf.cast(model.predict(X_val)[:,0]>0.5, tf.float32).numpy()\n",
    "y_baseline = np.ones(len(y_val))* float(y_train.mean()>0.5)\n",
    "\n",
    "\n",
    "scores= pd.DataFrame()\n",
    "for name, y in {\"prediction\" : y_hat, \"baseline\" : y_baseline}.items():\n",
    "    accuracy = tf.keras.metrics.Accuracy()(y_val, y).numpy()\n",
    "    precision = tf.keras.metrics.Precision()(y_val, y).numpy()\n",
    "    cross_table = pd.crosstab(y_val,y,margins = False, normalize = True)\n",
    "    if name == \"prediction\":\n",
    "        TN_ratio, FN_ratio, FP_ratio, TP_ratio = cross_table.iloc[0,0], cross_table.iloc[0,1], cross_table.iloc[1,0], cross_table.iloc[1,1]\n",
    "    else:\n",
    "        TN_ratio, FN_ratio, FP_ratio, TP_ratio = cross_table.iloc[0,0],0., cross_table.iloc[1,0], 0.\n",
    "    \n",
    "    score = pd.Series({\"accuracy\": accuracy, \"precision\": precision,\n",
    "              \"TN_ratio\":TN_ratio, \"FN_ratio\":FN_ratio, \n",
    "               \"FP_ratio\":FP_ratio, \"TP_ratio\":TP_ratio}, name = name)\n",
    "    scores = scores.append(score)\n",
    "    \n",
    "scores\n",
    "\n"
   ]
  }
 ],
 "metadata": {
  "kernelspec": {
   "display_name": "Python 3",
   "language": "python",
   "name": "python3"
  },
  "language_info": {
   "codemirror_mode": {
    "name": "ipython",
    "version": 3
   },
   "file_extension": ".py",
   "mimetype": "text/x-python",
   "name": "python",
   "nbconvert_exporter": "python",
   "pygments_lexer": "ipython3",
   "version": "3.7.12"
  },
  "papermill": {
   "default_parameters": {},
   "duration": 2168.1386,
   "end_time": "2022-03-28T12:33:21.105116",
   "environment_variables": {},
   "exception": null,
   "input_path": "__notebook__.ipynb",
   "output_path": "__notebook__.ipynb",
   "parameters": {},
   "start_time": "2022-03-28T11:57:12.966516",
   "version": "2.3.3"
  }
 },
 "nbformat": 4,
 "nbformat_minor": 5
}
