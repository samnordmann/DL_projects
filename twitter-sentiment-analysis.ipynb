{
 "cells": [
  {
   "cell_type": "markdown",
   "id": "9d0c8366",
   "metadata": {
    "papermill": {
     "duration": 0.019338,
     "end_time": "2022-03-27T16:06:37.357438",
     "exception": false,
     "start_time": "2022-03-27T16:06:37.338100",
     "status": "completed"
    },
    "tags": []
   },
   "source": [
    "In this notebook, we propose a simple but original implementation from scratch of an text classifier on a Twitter sentiment dataset. The goal is to detect hate tweets. The dataset is composed of +16k tweets belonging to 2 different classes.\n",
    "\n",
    "\n",
    "Our model uses the glove6b embedding of words followed by a Bidirectional LSTM and Dense layers.\n",
    "The performance of our algorithm can be seen in the last cell of the notebook."
   ]
  },
  {
   "cell_type": "code",
   "execution_count": 1,
   "id": "16bae93f",
   "metadata": {
    "execution": {
     "iopub.execute_input": "2022-03-27T16:06:37.401234Z",
     "iopub.status.busy": "2022-03-27T16:06:37.399717Z",
     "iopub.status.idle": "2022-03-27T16:06:44.013166Z",
     "shell.execute_reply": "2022-03-27T16:06:44.012344Z",
     "shell.execute_reply.started": "2022-03-27T15:22:24.741022Z"
    },
    "papermill": {
     "duration": 6.636076,
     "end_time": "2022-03-27T16:06:44.013375",
     "exception": false,
     "start_time": "2022-03-27T16:06:37.377299",
     "status": "completed"
    },
    "tags": []
   },
   "outputs": [
    {
     "name": "stdout",
     "output_type": "stream",
     "text": [
      "[nltk_data] Downloading package stopwords to /usr/share/nltk_data...\n",
      "[nltk_data]   Package stopwords is already up-to-date!\n",
      "2.6.2\n"
     ]
    }
   ],
   "source": [
    "import numpy as np\n",
    "import pandas as pd\n",
    "import tensorflow as tf\n",
    "import tensorflow.keras.utils as ku \n",
    "import tensorflow_hub as hub\n",
    "\n",
    "from tensorflow.keras.models import Sequential\n",
    "from tensorflow.keras import regularizers\n",
    "from tensorflow.keras.layers import Embedding, LSTM, Dense, Dropout, Bidirectional\n",
    "from tensorflow.keras.preprocessing.text import Tokenizer\n",
    "from tensorflow.keras.preprocessing.sequence import pad_sequences\n",
    "\n",
    "from sklearn.utils import class_weight\n",
    "\n",
    "import re\n",
    "import nltk\n",
    "from nltk.stem.porter import PorterStemmer\n",
    "from nltk.corpus import stopwords\n",
    "nltk.download('stopwords')\n",
    "stop_words = set(stopwords.words('english'))\n",
    "\n",
    "\n",
    "print(tf.__version__)"
   ]
  },
  {
   "cell_type": "markdown",
   "id": "3fe3941c",
   "metadata": {
    "papermill": {
     "duration": 0.018335,
     "end_time": "2022-03-27T16:06:44.051739",
     "exception": false,
     "start_time": "2022-03-27T16:06:44.033404",
     "status": "completed"
    },
    "tags": []
   },
   "source": [
    "Let us load the dataset:"
   ]
  },
  {
   "cell_type": "code",
   "execution_count": 2,
   "id": "f5c3ac03",
   "metadata": {
    "execution": {
     "iopub.execute_input": "2022-03-27T16:06:44.094047Z",
     "iopub.status.busy": "2022-03-27T16:06:44.093460Z",
     "iopub.status.idle": "2022-03-27T16:06:44.245604Z",
     "shell.execute_reply": "2022-03-27T16:06:44.245097Z",
     "shell.execute_reply.started": "2022-03-27T15:23:51.165903Z"
    },
    "papermill": {
     "duration": 0.175416,
     "end_time": "2022-03-27T16:06:44.245748",
     "exception": false,
     "start_time": "2022-03-27T16:06:44.070332",
     "status": "completed"
    },
    "tags": []
   },
   "outputs": [],
   "source": [
    "data=pd.read_csv('../input/twitter-sentiment-analysis-hatred-speech/train.csv',\n",
    "                 index_col= \"id\")"
   ]
  },
  {
   "cell_type": "markdown",
   "id": "fd7a8d09",
   "metadata": {
    "papermill": {
     "duration": 0.018604,
     "end_time": "2022-03-27T16:06:44.283139",
     "exception": false,
     "start_time": "2022-03-27T16:06:44.264535",
     "status": "completed"
    },
    "tags": []
   },
   "source": [
    "and explore the first rows:"
   ]
  },
  {
   "cell_type": "code",
   "execution_count": 3,
   "id": "46da71a6",
   "metadata": {
    "execution": {
     "iopub.execute_input": "2022-03-27T16:06:44.326476Z",
     "iopub.status.busy": "2022-03-27T16:06:44.325811Z",
     "iopub.status.idle": "2022-03-27T16:06:44.336286Z",
     "shell.execute_reply": "2022-03-27T16:06:44.336747Z",
     "shell.execute_reply.started": "2022-03-27T15:24:44.300541Z"
    },
    "papermill": {
     "duration": 0.035223,
     "end_time": "2022-03-27T16:06:44.336891",
     "exception": false,
     "start_time": "2022-03-27T16:06:44.301668",
     "status": "completed"
    },
    "tags": []
   },
   "outputs": [
    {
     "data": {
      "text/html": [
       "<div>\n",
       "<style scoped>\n",
       "    .dataframe tbody tr th:only-of-type {\n",
       "        vertical-align: middle;\n",
       "    }\n",
       "\n",
       "    .dataframe tbody tr th {\n",
       "        vertical-align: top;\n",
       "    }\n",
       "\n",
       "    .dataframe thead th {\n",
       "        text-align: right;\n",
       "    }\n",
       "</style>\n",
       "<table border=\"1\" class=\"dataframe\">\n",
       "  <thead>\n",
       "    <tr style=\"text-align: right;\">\n",
       "      <th></th>\n",
       "      <th>label</th>\n",
       "      <th>tweet</th>\n",
       "    </tr>\n",
       "    <tr>\n",
       "      <th>id</th>\n",
       "      <th></th>\n",
       "      <th></th>\n",
       "    </tr>\n",
       "  </thead>\n",
       "  <tbody>\n",
       "    <tr>\n",
       "      <th>1</th>\n",
       "      <td>0</td>\n",
       "      <td>@user when a father is dysfunctional and is s...</td>\n",
       "    </tr>\n",
       "    <tr>\n",
       "      <th>2</th>\n",
       "      <td>0</td>\n",
       "      <td>@user @user thanks for #lyft credit i can't us...</td>\n",
       "    </tr>\n",
       "    <tr>\n",
       "      <th>3</th>\n",
       "      <td>0</td>\n",
       "      <td>bihday your majesty</td>\n",
       "    </tr>\n",
       "    <tr>\n",
       "      <th>4</th>\n",
       "      <td>0</td>\n",
       "      <td>#model   i love u take with u all the time in ...</td>\n",
       "    </tr>\n",
       "    <tr>\n",
       "      <th>5</th>\n",
       "      <td>0</td>\n",
       "      <td>factsguide: society now    #motivation</td>\n",
       "    </tr>\n",
       "  </tbody>\n",
       "</table>\n",
       "</div>"
      ],
      "text/plain": [
       "    label                                              tweet\n",
       "id                                                          \n",
       "1       0   @user when a father is dysfunctional and is s...\n",
       "2       0  @user @user thanks for #lyft credit i can't us...\n",
       "3       0                                bihday your majesty\n",
       "4       0  #model   i love u take with u all the time in ...\n",
       "5       0             factsguide: society now    #motivation"
      ]
     },
     "execution_count": 3,
     "metadata": {},
     "output_type": "execute_result"
    }
   ],
   "source": [
    "data.head()"
   ]
  },
  {
   "cell_type": "markdown",
   "id": "08c2a457",
   "metadata": {
    "papermill": {
     "duration": 0.018783,
     "end_time": "2022-03-27T16:06:44.376465",
     "exception": false,
     "start_time": "2022-03-27T16:06:44.357682",
     "status": "completed"
    },
    "tags": []
   },
   "source": [
    "Let us proceed to a simple pre processing of the tweets by stemming, removing stop words and abbreviations."
   ]
  },
  {
   "cell_type": "code",
   "execution_count": 4,
   "id": "0e6e5980",
   "metadata": {
    "execution": {
     "iopub.execute_input": "2022-03-27T16:06:44.428901Z",
     "iopub.status.busy": "2022-03-27T16:06:44.428030Z",
     "iopub.status.idle": "2022-03-27T16:06:53.642280Z",
     "shell.execute_reply": "2022-03-27T16:06:53.643375Z",
     "shell.execute_reply.started": "2022-03-27T15:34:58.215103Z"
    },
    "papermill": {
     "duration": 9.248042,
     "end_time": "2022-03-27T16:06:53.643615",
     "exception": false,
     "start_time": "2022-03-27T16:06:44.395573",
     "status": "completed"
    },
    "tags": []
   },
   "outputs": [],
   "source": [
    "# This preprocessing is inspired from the notebook https://www.kaggle.com/rashmimanwani/twitter-sentiment-analysis-bidirectional-lstm\n",
    "import re\n",
    "def clean_text(text):\n",
    "    text = text.lower()\n",
    "    text = re.sub(r\"#\", \" \", text)\n",
    "    text = re.sub(r\"what's\", \"what is \", text)\n",
    "    text = re.sub(r\"\\'s\", \" \", text)\n",
    "    text = re.sub(r\"\\'ve\", \" have \", text)\n",
    "    text = re.sub(r\"can't\", \"can not \", text)\n",
    "    text = re.sub(r\"n't\", \" not \", text)\n",
    "    text = re.sub(r\"i'm\", \"i am \", text)\n",
    "    text = re.sub(r\"\\'re\", \" are \", text)\n",
    "    text = re.sub(r\"\\'d\", \" would \", text)\n",
    "    text = re.sub(r\"\\'ll\", \" will \", text)\n",
    "    text = re.sub(r\"\\'scuse\", \" excuse \", text)\n",
    "    text = re.sub('\\W', ' ', text)\n",
    "    text = re.sub('\\s+', ' ', text)\n",
    "    text = re.sub('[^A-Za-z0-9]+', ' ', text)\n",
    "    text = text.strip(' ')\n",
    "    return text\n",
    "\n",
    "data['tweet'] = data['tweet'].map(lambda t: clean_text(t))\n",
    "\n",
    "\n",
    "    \n",
    "stemmer=PorterStemmer()\n",
    "def stem_remove_sw(df,text_col):\n",
    "    corpus = []\n",
    "    for i in range(len(df)):\n",
    "        review = str(df[text_col][i+1])\n",
    "        review = review.split()\n",
    "        review = [stemmer.stem(word) for word in review if word not in stop_words]\n",
    "        review = \" \".join(review)\n",
    "        corpus.append(review)\n",
    "    return corpus\n",
    "\n",
    "Tweets = stem_remove_sw(data, 'tweet')\n",
    "y=data.label"
   ]
  },
  {
   "cell_type": "markdown",
   "id": "2981293e",
   "metadata": {
    "papermill": {
     "duration": 0.030789,
     "end_time": "2022-03-27T16:06:53.705625",
     "exception": false,
     "start_time": "2022-03-27T16:06:53.674836",
     "status": "completed"
    },
    "tags": []
   },
   "source": [
    "We now split the dataset into train and validation datasets:"
   ]
  },
  {
   "cell_type": "code",
   "execution_count": 5,
   "id": "1740e2ce",
   "metadata": {
    "execution": {
     "iopub.execute_input": "2022-03-27T16:06:53.754914Z",
     "iopub.status.busy": "2022-03-27T16:06:53.753281Z",
     "iopub.status.idle": "2022-03-27T16:06:53.755514Z",
     "shell.execute_reply": "2022-03-27T16:06:53.755916Z",
     "shell.execute_reply.started": "2022-03-27T15:35:16.404797Z"
    },
    "papermill": {
     "duration": 0.027286,
     "end_time": "2022-03-27T16:06:53.756056",
     "exception": false,
     "start_time": "2022-03-27T16:06:53.728770",
     "status": "completed"
    },
    "tags": []
   },
   "outputs": [],
   "source": [
    "# We divide the dataset into train and validation datasets\n",
    "split = 0.1\n",
    "i_split = int(len(Tweets)*split)\n",
    "Tweets_val = Tweets[:i_split]\n",
    "y_val = y[:i_split]\n",
    "Tweets_train = Tweets[i_split:]\n",
    "y_train = y[i_split:]\n"
   ]
  },
  {
   "cell_type": "markdown",
   "id": "0e2e5735",
   "metadata": {
    "papermill": {
     "duration": 0.019091,
     "end_time": "2022-03-27T16:06:53.793933",
     "exception": false,
     "start_time": "2022-03-27T16:06:53.774842",
     "status": "completed"
    },
    "tags": []
   },
   "source": [
    "Let us format the input data by tokenizing the words and padding the sequences to a fixed length"
   ]
  },
  {
   "cell_type": "code",
   "execution_count": 6,
   "id": "ec73c4e8",
   "metadata": {
    "execution": {
     "iopub.execute_input": "2022-03-27T16:06:53.891245Z",
     "iopub.status.busy": "2022-03-27T16:06:53.880235Z",
     "iopub.status.idle": "2022-03-27T16:06:54.768369Z",
     "shell.execute_reply": "2022-03-27T16:06:54.768998Z",
     "shell.execute_reply.started": "2022-03-27T15:36:09.414640Z"
    },
    "papermill": {
     "duration": 0.956329,
     "end_time": "2022-03-27T16:06:54.769149",
     "exception": false,
     "start_time": "2022-03-27T16:06:53.812820",
     "status": "completed"
    },
    "tags": []
   },
   "outputs": [
    {
     "name": "stdout",
     "output_type": "stream",
     "text": [
      "30732\n",
      "(28766, 38)\n"
     ]
    }
   ],
   "source": [
    "#We use a Tokenizer to transform each tweet in a sequence of token integers.\n",
    "tokenizer = Tokenizer()\n",
    "tokenizer.fit_on_texts(Tweets_train)\n",
    "X = tokenizer.texts_to_sequences(Tweets)\n",
    "total_words = len(tokenizer.word_index) + 1\n",
    "word_index = tokenizer.word_index\n",
    "\n",
    "\n",
    "# We pad the sequences to match the maximal sequence length of the training set\n",
    "max_sequence_len = max([len(x) for x in X[i_split:]])\n",
    "X = np.array(pad_sequences(X, maxlen=max_sequence_len, padding='pre'))\n",
    "\n",
    "#We divide X between training and validation sets\n",
    "X_val = X[:i_split]\n",
    "X_train = X[i_split:]\n",
    "\n",
    "print(total_words)\n",
    "print(X_train.shape)"
   ]
  },
  {
   "cell_type": "markdown",
   "id": "9811862a",
   "metadata": {
    "papermill": {
     "duration": 0.019078,
     "end_time": "2022-03-27T16:06:54.807279",
     "exception": false,
     "start_time": "2022-03-27T16:06:54.788201",
     "status": "completed"
    },
    "tags": []
   },
   "source": [
    "Now, we import the Glove word embedding as a matrix"
   ]
  },
  {
   "cell_type": "code",
   "execution_count": 7,
   "id": "7c1662c7",
   "metadata": {
    "execution": {
     "iopub.execute_input": "2022-03-27T16:06:54.851926Z",
     "iopub.status.busy": "2022-03-27T16:06:54.851262Z",
     "iopub.status.idle": "2022-03-27T16:07:07.239186Z",
     "shell.execute_reply": "2022-03-27T16:07:07.239744Z",
     "shell.execute_reply.started": "2022-03-27T15:37:02.272710Z"
    },
    "papermill": {
     "duration": 12.413662,
     "end_time": "2022-03-27T16:07:07.239932",
     "exception": false,
     "start_time": "2022-03-27T16:06:54.826270",
     "status": "completed"
    },
    "tags": []
   },
   "outputs": [],
   "source": [
    "embeddings_index = {};\n",
    "with open('../input/glove6b100dtxt/glove.6B.100d.txt') as f:\n",
    "    for line in f:\n",
    "        values = line.split();\n",
    "        word = values[0];\n",
    "        coefs = np.asarray(values[1:], dtype='float32');\n",
    "        embeddings_index[word] = coefs;\n",
    "\n",
    "embeddings_matrix = np.zeros((total_words, 100));\n",
    "for word, i in word_index.items():\n",
    "    embedding_vector = embeddings_index.get(word);\n",
    "    if embedding_vector is not None:\n",
    "        embeddings_matrix[i] = embedding_vector;"
   ]
  },
  {
   "cell_type": "markdown",
   "id": "8cb94a24",
   "metadata": {
    "papermill": {
     "duration": 0.019498,
     "end_time": "2022-03-27T16:07:07.279378",
     "exception": false,
     "start_time": "2022-03-27T16:07:07.259880",
     "status": "completed"
    },
    "tags": []
   },
   "source": [
    "Let us now build our model, composed of the Glove embedding, followed by a BiLSTM and Dense layers. We include Dropout and L2 regularizers. The final layer is a sigmoid because this is a binary classifcation task."
   ]
  },
  {
   "cell_type": "code",
   "execution_count": 8,
   "id": "8cf01e02",
   "metadata": {
    "execution": {
     "iopub.execute_input": "2022-03-27T16:07:07.326686Z",
     "iopub.status.busy": "2022-03-27T16:07:07.326083Z",
     "iopub.status.idle": "2022-03-27T16:07:10.102467Z",
     "shell.execute_reply": "2022-03-27T16:07:10.102911Z",
     "shell.execute_reply.started": "2022-03-27T15:37:41.655826Z"
    },
    "papermill": {
     "duration": 2.804301,
     "end_time": "2022-03-27T16:07:10.103065",
     "exception": false,
     "start_time": "2022-03-27T16:07:07.298764",
     "status": "completed"
    },
    "tags": []
   },
   "outputs": [
    {
     "name": "stderr",
     "output_type": "stream",
     "text": [
      "2022-03-27 16:07:07.405206: I tensorflow/stream_executor/cuda/cuda_gpu_executor.cc:937] successful NUMA node read from SysFS had negative value (-1), but there must be at least one NUMA node, so returning NUMA node zero\n",
      "2022-03-27 16:07:07.500824: I tensorflow/stream_executor/cuda/cuda_gpu_executor.cc:937] successful NUMA node read from SysFS had negative value (-1), but there must be at least one NUMA node, so returning NUMA node zero\n",
      "2022-03-27 16:07:07.501582: I tensorflow/stream_executor/cuda/cuda_gpu_executor.cc:937] successful NUMA node read from SysFS had negative value (-1), but there must be at least one NUMA node, so returning NUMA node zero\n",
      "2022-03-27 16:07:07.502800: I tensorflow/core/platform/cpu_feature_guard.cc:142] This TensorFlow binary is optimized with oneAPI Deep Neural Network Library (oneDNN) to use the following CPU instructions in performance-critical operations:  AVX2 AVX512F FMA\n",
      "To enable them in other operations, rebuild TensorFlow with the appropriate compiler flags.\n",
      "2022-03-27 16:07:07.503905: I tensorflow/stream_executor/cuda/cuda_gpu_executor.cc:937] successful NUMA node read from SysFS had negative value (-1), but there must be at least one NUMA node, so returning NUMA node zero\n",
      "2022-03-27 16:07:07.504611: I tensorflow/stream_executor/cuda/cuda_gpu_executor.cc:937] successful NUMA node read from SysFS had negative value (-1), but there must be at least one NUMA node, so returning NUMA node zero\n",
      "2022-03-27 16:07:07.505360: I tensorflow/stream_executor/cuda/cuda_gpu_executor.cc:937] successful NUMA node read from SysFS had negative value (-1), but there must be at least one NUMA node, so returning NUMA node zero\n",
      "2022-03-27 16:07:09.341115: I tensorflow/stream_executor/cuda/cuda_gpu_executor.cc:937] successful NUMA node read from SysFS had negative value (-1), but there must be at least one NUMA node, so returning NUMA node zero\n",
      "2022-03-27 16:07:09.342021: I tensorflow/stream_executor/cuda/cuda_gpu_executor.cc:937] successful NUMA node read from SysFS had negative value (-1), but there must be at least one NUMA node, so returning NUMA node zero\n",
      "2022-03-27 16:07:09.342716: I tensorflow/stream_executor/cuda/cuda_gpu_executor.cc:937] successful NUMA node read from SysFS had negative value (-1), but there must be at least one NUMA node, so returning NUMA node zero\n",
      "2022-03-27 16:07:09.343294: I tensorflow/core/common_runtime/gpu/gpu_device.cc:1510] Created device /job:localhost/replica:0/task:0/device:GPU:0 with 15403 MB memory:  -> device: 0, name: Tesla P100-PCIE-16GB, pci bus id: 0000:00:04.0, compute capability: 6.0\n"
     ]
    },
    {
     "name": "stdout",
     "output_type": "stream",
     "text": [
      "Model: \"sequential\"\n",
      "_________________________________________________________________\n",
      "Layer (type)                 Output Shape              Param #   \n",
      "=================================================================\n",
      "embedding (Embedding)        (None, 38, 100)           3073200   \n",
      "_________________________________________________________________\n",
      "dropout (Dropout)            (None, 38, 100)           0         \n",
      "_________________________________________________________________\n",
      "bidirectional (Bidirectional (None, 256)               234496    \n",
      "_________________________________________________________________\n",
      "dropout_1 (Dropout)          (None, 256)               0         \n",
      "_________________________________________________________________\n",
      "dense (Dense)                (None, 512)               131584    \n",
      "_________________________________________________________________\n",
      "dropout_2 (Dropout)          (None, 512)               0         \n",
      "_________________________________________________________________\n",
      "dense_1 (Dense)              (None, 256)               131328    \n",
      "_________________________________________________________________\n",
      "dropout_3 (Dropout)          (None, 256)               0         \n",
      "_________________________________________________________________\n",
      "dense_2 (Dense)              (None, 128)               32896     \n",
      "_________________________________________________________________\n",
      "dropout_4 (Dropout)          (None, 128)               0         \n",
      "_________________________________________________________________\n",
      "dense_3 (Dense)              (None, 64)                8256      \n",
      "_________________________________________________________________\n",
      "dropout_5 (Dropout)          (None, 64)                0         \n",
      "_________________________________________________________________\n",
      "dense_4 (Dense)              (None, 1)                 65        \n",
      "=================================================================\n",
      "Total params: 3,611,825\n",
      "Trainable params: 538,625\n",
      "Non-trainable params: 3,073,200\n",
      "_________________________________________________________________\n"
     ]
    }
   ],
   "source": [
    "model = Sequential([\n",
    "    Embedding(total_words, 100, input_length=max_sequence_len, weights=[embeddings_matrix], trainable=False),\n",
    "    Dropout(0.2),\n",
    "    Bidirectional(LSTM(128, return_sequences = False,\n",
    "                       activation=\"relu\",\n",
    "                       kernel_regularizer=regularizers.l2(0.01))),\n",
    "    Dropout(0.2),\n",
    "    Dense(512, activation='relu', kernel_regularizer=regularizers.l2(0.01)),\n",
    "    Dropout(0.2),\n",
    "    Dense(256, activation='relu', kernel_regularizer=regularizers.l2(0.01)),\n",
    "    Dropout(0.2),\n",
    "    Dense(128, activation='relu', kernel_regularizer=regularizers.l2(0.01)),\n",
    "    Dropout(0.2),\n",
    "    Dense(64, activation='relu', kernel_regularizer=regularizers.l2(0.01)),\n",
    "    Dropout(0.2),\n",
    "    Dense(1, activation='sigmoid'),\n",
    "    ])\n",
    "\n",
    "model.compile(loss='binary_crossentropy', \n",
    "              optimizer=tf.keras.optimizers.Adam(learning_rate=0.0001), \n",
    "              metrics=['accuracy'])\n",
    "\n",
    "model.summary()"
   ]
  },
  {
   "cell_type": "markdown",
   "id": "f7f9dc4b",
   "metadata": {
    "papermill": {
     "duration": 0.022145,
     "end_time": "2022-03-27T16:07:10.145882",
     "exception": false,
     "start_time": "2022-03-27T16:07:10.123737",
     "status": "completed"
    },
    "tags": []
   },
   "source": [
    "The dataset is imbalanced because it contains much more examples targeted as 0. A good practice is therefore to weight the loss accordingly, so that we will give more importance to the examples targeted as 1 to compensate their sparsity."
   ]
  },
  {
   "cell_type": "code",
   "execution_count": 9,
   "id": "3760b8ed",
   "metadata": {
    "execution": {
     "iopub.execute_input": "2022-03-27T16:07:10.197019Z",
     "iopub.status.busy": "2022-03-27T16:07:10.196248Z",
     "iopub.status.idle": "2022-03-27T16:07:10.204868Z",
     "shell.execute_reply": "2022-03-27T16:07:10.204368Z",
     "shell.execute_reply.started": "2022-03-27T15:39:57.122797Z"
    },
    "papermill": {
     "duration": 0.036045,
     "end_time": "2022-03-27T16:07:10.204999",
     "exception": false,
     "start_time": "2022-03-27T16:07:10.168954",
     "status": "completed"
    },
    "tags": []
   },
   "outputs": [],
   "source": [
    "# Calculate the weights for each class so that we can balance the data\n",
    "weights = class_weight.compute_class_weight('balanced',\n",
    "                                            classes = np.unique(y_train),\n",
    "                                            y = y_train)\n",
    "weights= {key: value for key,value in enumerate(weights)}"
   ]
  },
  {
   "cell_type": "markdown",
   "id": "cae2ec0c",
   "metadata": {
    "papermill": {
     "duration": 0.022065,
     "end_time": "2022-03-27T16:07:10.250089",
     "exception": false,
     "start_time": "2022-03-27T16:07:10.228024",
     "status": "completed"
    },
    "tags": []
   },
   "source": [
    "We use an EarlyStopping callback during training:"
   ]
  },
  {
   "cell_type": "code",
   "execution_count": 10,
   "id": "49b06b4e",
   "metadata": {
    "execution": {
     "iopub.execute_input": "2022-03-27T16:07:10.298589Z",
     "iopub.status.busy": "2022-03-27T16:07:10.297758Z",
     "iopub.status.idle": "2022-03-27T16:07:10.299596Z",
     "shell.execute_reply": "2022-03-27T16:07:10.300010Z",
     "shell.execute_reply.started": "2022-03-27T15:40:23.794770Z"
    },
    "papermill": {
     "duration": 0.027904,
     "end_time": "2022-03-27T16:07:10.300138",
     "exception": false,
     "start_time": "2022-03-27T16:07:10.272234",
     "status": "completed"
    },
    "tags": []
   },
   "outputs": [],
   "source": [
    "EarlyStop = tf.keras.callbacks.EarlyStopping(monitor=\"val_loss\",min_delta=0,patience=30)"
   ]
  },
  {
   "cell_type": "markdown",
   "id": "0cd08ef2",
   "metadata": {
    "execution": {
     "iopub.execute_input": "2022-03-27T15:40:31.827042Z",
     "iopub.status.busy": "2022-03-27T15:40:31.826652Z",
     "iopub.status.idle": "2022-03-27T15:40:31.831787Z",
     "shell.execute_reply": "2022-03-27T15:40:31.830589Z",
     "shell.execute_reply.started": "2022-03-27T15:40:31.827013Z"
    },
    "papermill": {
     "duration": 0.020339,
     "end_time": "2022-03-27T16:07:10.340694",
     "exception": false,
     "start_time": "2022-03-27T16:07:10.320355",
     "status": "completed"
    },
    "tags": []
   },
   "source": [
    "Let us train our model:"
   ]
  },
  {
   "cell_type": "code",
   "execution_count": 11,
   "id": "9b5db27a",
   "metadata": {
    "execution": {
     "iopub.execute_input": "2022-03-27T16:07:10.387200Z",
     "iopub.status.busy": "2022-03-27T16:07:10.386531Z",
     "iopub.status.idle": "2022-03-27T16:29:21.209718Z",
     "shell.execute_reply": "2022-03-27T16:29:21.210104Z",
     "shell.execute_reply.started": "2022-03-08T00:47:25.448091Z"
    },
    "papermill": {
     "duration": 1330.848989,
     "end_time": "2022-03-27T16:29:21.210264",
     "exception": false,
     "start_time": "2022-03-27T16:07:10.361275",
     "status": "completed"
    },
    "tags": []
   },
   "outputs": [
    {
     "name": "stderr",
     "output_type": "stream",
     "text": [
      "2022-03-27 16:07:10.448067: I tensorflow/compiler/mlir/mlir_graph_optimization_pass.cc:185] None of the MLIR Optimization Passes are enabled (registered 2)\n"
     ]
    },
    {
     "name": "stdout",
     "output_type": "stream",
     "text": [
      "Epoch 1/500\n",
      "113/113 [==============================] - 20s 148ms/step - loss: 11.5019 - accuracy: 0.6385 - val_loss: 9.7141 - val_accuracy: 0.7275\n",
      "Epoch 2/500\n",
      "113/113 [==============================] - 16s 143ms/step - loss: 8.3181 - accuracy: 0.5906 - val_loss: 7.0257 - val_accuracy: 0.7118\n",
      "Epoch 3/500\n",
      "113/113 [==============================] - 16s 143ms/step - loss: 6.0036 - accuracy: 0.7004 - val_loss: 4.9955 - val_accuracy: 0.8414\n",
      "Epoch 4/500\n",
      "113/113 [==============================] - 16s 141ms/step - loss: 4.3088 - accuracy: 0.7710 - val_loss: 3.5558 - val_accuracy: 0.8917\n",
      "Epoch 5/500\n",
      "113/113 [==============================] - 16s 143ms/step - loss: 3.1595 - accuracy: 0.8001 - val_loss: 2.5796 - val_accuracy: 0.9005\n",
      "Epoch 6/500\n",
      "113/113 [==============================] - 16s 140ms/step - loss: 2.3675 - accuracy: 0.7922 - val_loss: 1.9676 - val_accuracy: 0.8698\n",
      "Epoch 7/500\n",
      "113/113 [==============================] - 17s 149ms/step - loss: 1.8210 - accuracy: 0.8037 - val_loss: 1.6019 - val_accuracy: 0.8073\n",
      "Epoch 8/500\n",
      "113/113 [==============================] - 16s 141ms/step - loss: 1.4405 - accuracy: 0.8031 - val_loss: 1.2918 - val_accuracy: 0.8016\n",
      "Epoch 9/500\n",
      "113/113 [==============================] - 17s 147ms/step - loss: 1.1674 - accuracy: 0.8082 - val_loss: 1.0101 - val_accuracy: 0.8498\n",
      "Epoch 10/500\n",
      "113/113 [==============================] - 16s 142ms/step - loss: 0.9833 - accuracy: 0.8161 - val_loss: 0.9026 - val_accuracy: 0.8464\n",
      "Epoch 11/500\n",
      "113/113 [==============================] - 17s 151ms/step - loss: 0.8422 - accuracy: 0.8276 - val_loss: 0.7902 - val_accuracy: 0.8295\n",
      "Epoch 12/500\n",
      "113/113 [==============================] - 16s 142ms/step - loss: 0.7384 - accuracy: 0.8297 - val_loss: 0.6207 - val_accuracy: 0.8780\n",
      "Epoch 13/500\n",
      "113/113 [==============================] - 17s 152ms/step - loss: 0.6551 - accuracy: 0.8316 - val_loss: 0.5746 - val_accuracy: 0.8501\n",
      "Epoch 14/500\n",
      "113/113 [==============================] - 16s 139ms/step - loss: 0.6044 - accuracy: 0.8274 - val_loss: 0.5923 - val_accuracy: 0.8385\n",
      "Epoch 15/500\n",
      "113/113 [==============================] - 18s 157ms/step - loss: 0.5587 - accuracy: 0.8348 - val_loss: 0.5016 - val_accuracy: 0.8533\n",
      "Epoch 16/500\n",
      "113/113 [==============================] - 16s 138ms/step - loss: 0.5168 - accuracy: 0.8388 - val_loss: 0.4806 - val_accuracy: 0.8586\n",
      "Epoch 17/500\n",
      "113/113 [==============================] - 17s 153ms/step - loss: 0.4925 - accuracy: 0.8396 - val_loss: 0.4492 - val_accuracy: 0.8420\n",
      "Epoch 18/500\n",
      "113/113 [==============================] - 16s 138ms/step - loss: 0.4670 - accuracy: 0.8359 - val_loss: 0.3708 - val_accuracy: 0.8836\n",
      "Epoch 19/500\n",
      "113/113 [==============================] - 18s 156ms/step - loss: 0.4547 - accuracy: 0.8370 - val_loss: 0.3777 - val_accuracy: 0.9011\n",
      "Epoch 20/500\n",
      "113/113 [==============================] - 16s 139ms/step - loss: 0.4449 - accuracy: 0.8393 - val_loss: 0.4342 - val_accuracy: 0.8320\n",
      "Epoch 21/500\n",
      "113/113 [==============================] - 18s 158ms/step - loss: 0.4211 - accuracy: 0.8549 - val_loss: 0.3284 - val_accuracy: 0.8870\n",
      "Epoch 22/500\n",
      "113/113 [==============================] - 16s 141ms/step - loss: 0.4091 - accuracy: 0.8563 - val_loss: 0.3413 - val_accuracy: 0.8892\n",
      "Epoch 23/500\n",
      "113/113 [==============================] - 18s 155ms/step - loss: 0.4104 - accuracy: 0.8533 - val_loss: 0.3198 - val_accuracy: 0.8927\n",
      "Epoch 24/500\n",
      "113/113 [==============================] - 16s 142ms/step - loss: 0.3969 - accuracy: 0.8474 - val_loss: 0.3090 - val_accuracy: 0.8864\n",
      "Epoch 25/500\n",
      "113/113 [==============================] - 17s 155ms/step - loss: 0.3918 - accuracy: 0.8544 - val_loss: 0.2858 - val_accuracy: 0.9127\n",
      "Epoch 26/500\n",
      "113/113 [==============================] - 17s 147ms/step - loss: 0.3788 - accuracy: 0.8578 - val_loss: 0.2712 - val_accuracy: 0.9180\n",
      "Epoch 27/500\n",
      "113/113 [==============================] - 17s 152ms/step - loss: 0.3711 - accuracy: 0.8612 - val_loss: 0.3428 - val_accuracy: 0.8786\n",
      "Epoch 28/500\n",
      "113/113 [==============================] - 17s 149ms/step - loss: 0.3662 - accuracy: 0.8523 - val_loss: 0.2941 - val_accuracy: 0.8814\n",
      "Epoch 29/500\n",
      "113/113 [==============================] - 17s 150ms/step - loss: 0.3672 - accuracy: 0.8640 - val_loss: 0.3121 - val_accuracy: 0.8811\n",
      "Epoch 30/500\n",
      "113/113 [==============================] - 17s 149ms/step - loss: 0.3564 - accuracy: 0.8541 - val_loss: 0.2571 - val_accuracy: 0.9071\n",
      "Epoch 31/500\n",
      "113/113 [==============================] - 17s 151ms/step - loss: 0.3643 - accuracy: 0.8548 - val_loss: 0.3167 - val_accuracy: 0.8874\n",
      "Epoch 32/500\n",
      "113/113 [==============================] - 17s 150ms/step - loss: 0.3601 - accuracy: 0.8644 - val_loss: 0.3971 - val_accuracy: 0.8420\n",
      "Epoch 33/500\n",
      "113/113 [==============================] - 17s 153ms/step - loss: 0.3491 - accuracy: 0.8575 - val_loss: 0.3481 - val_accuracy: 0.8755\n",
      "Epoch 34/500\n",
      "113/113 [==============================] - 16s 145ms/step - loss: 0.3407 - accuracy: 0.8571 - val_loss: 0.2264 - val_accuracy: 0.9180\n",
      "Epoch 35/500\n",
      "113/113 [==============================] - 18s 160ms/step - loss: 0.3579 - accuracy: 0.8537 - val_loss: 0.2523 - val_accuracy: 0.9080\n",
      "Epoch 36/500\n",
      "113/113 [==============================] - 16s 145ms/step - loss: 0.3340 - accuracy: 0.8708 - val_loss: 0.2601 - val_accuracy: 0.9018\n",
      "Epoch 37/500\n",
      "113/113 [==============================] - 18s 157ms/step - loss: 0.3399 - accuracy: 0.8606 - val_loss: 0.2367 - val_accuracy: 0.9233\n",
      "Epoch 38/500\n",
      "113/113 [==============================] - 17s 147ms/step - loss: 0.3509 - accuracy: 0.8674 - val_loss: 0.2611 - val_accuracy: 0.9049\n",
      "Epoch 39/500\n",
      "113/113 [==============================] - 18s 160ms/step - loss: 0.3284 - accuracy: 0.8597 - val_loss: 0.2846 - val_accuracy: 0.8852\n",
      "Epoch 40/500\n",
      "113/113 [==============================] - 16s 145ms/step - loss: 0.3218 - accuracy: 0.8649 - val_loss: 0.2414 - val_accuracy: 0.9136\n",
      "Epoch 41/500\n",
      "113/113 [==============================] - 18s 159ms/step - loss: 0.3349 - accuracy: 0.8555 - val_loss: 0.2412 - val_accuracy: 0.9208\n",
      "Epoch 42/500\n",
      "113/113 [==============================] - 16s 144ms/step - loss: 0.3182 - accuracy: 0.8691 - val_loss: 0.2351 - val_accuracy: 0.9177\n",
      "Epoch 43/500\n",
      "113/113 [==============================] - 19s 164ms/step - loss: 0.3179 - accuracy: 0.8688 - val_loss: 0.2227 - val_accuracy: 0.9221\n",
      "Epoch 44/500\n",
      "113/113 [==============================] - 16s 145ms/step - loss: 0.3116 - accuracy: 0.8748 - val_loss: 0.2677 - val_accuracy: 0.8874\n",
      "Epoch 45/500\n",
      "113/113 [==============================] - 19s 166ms/step - loss: 0.3096 - accuracy: 0.8715 - val_loss: 0.3045 - val_accuracy: 0.8820\n",
      "Epoch 46/500\n",
      "113/113 [==============================] - 16s 145ms/step - loss: 0.3169 - accuracy: 0.8659 - val_loss: 0.2977 - val_accuracy: 0.9039\n",
      "Epoch 47/500\n",
      "113/113 [==============================] - 19s 168ms/step - loss: 0.3108 - accuracy: 0.8723 - val_loss: 0.2085 - val_accuracy: 0.9343\n",
      "Epoch 48/500\n",
      "113/113 [==============================] - 16s 142ms/step - loss: 0.3054 - accuracy: 0.8782 - val_loss: 0.1986 - val_accuracy: 0.9471\n",
      "Epoch 49/500\n",
      "113/113 [==============================] - 19s 172ms/step - loss: 0.3228 - accuracy: 0.8677 - val_loss: 0.2813 - val_accuracy: 0.8880\n",
      "Epoch 50/500\n",
      "113/113 [==============================] - 16s 143ms/step - loss: 0.3007 - accuracy: 0.8805 - val_loss: 0.2495 - val_accuracy: 0.9190\n",
      "Epoch 51/500\n",
      "113/113 [==============================] - 19s 170ms/step - loss: 0.2924 - accuracy: 0.8815 - val_loss: 0.2712 - val_accuracy: 0.8905\n",
      "Epoch 52/500\n",
      "113/113 [==============================] - 16s 139ms/step - loss: 0.3038 - accuracy: 0.8730 - val_loss: 0.3400 - val_accuracy: 0.8689\n",
      "Epoch 53/500\n",
      "113/113 [==============================] - 19s 173ms/step - loss: 0.2904 - accuracy: 0.8836 - val_loss: 0.2864 - val_accuracy: 0.8836\n",
      "Epoch 54/500\n",
      "113/113 [==============================] - 16s 141ms/step - loss: 0.2950 - accuracy: 0.8805 - val_loss: 0.2638 - val_accuracy: 0.9064\n",
      "Epoch 55/500\n",
      "113/113 [==============================] - 19s 167ms/step - loss: 0.2867 - accuracy: 0.8802 - val_loss: 0.2448 - val_accuracy: 0.9130\n",
      "Epoch 56/500\n",
      "113/113 [==============================] - 16s 141ms/step - loss: 0.2886 - accuracy: 0.8801 - val_loss: 0.1990 - val_accuracy: 0.9315\n",
      "Epoch 57/500\n",
      "113/113 [==============================] - 19s 165ms/step - loss: 0.2889 - accuracy: 0.8762 - val_loss: 0.2414 - val_accuracy: 0.9061\n",
      "Epoch 58/500\n",
      "113/113 [==============================] - 16s 143ms/step - loss: 0.2926 - accuracy: 0.8778 - val_loss: 0.2475 - val_accuracy: 0.9027\n",
      "Epoch 59/500\n",
      "113/113 [==============================] - 18s 163ms/step - loss: 0.2870 - accuracy: 0.8785 - val_loss: 0.3078 - val_accuracy: 0.8820\n",
      "Epoch 60/500\n",
      "113/113 [==============================] - 16s 146ms/step - loss: 0.3072 - accuracy: 0.8696 - val_loss: 0.2870 - val_accuracy: 0.8820\n",
      "Epoch 61/500\n",
      "113/113 [==============================] - 19s 168ms/step - loss: 0.2939 - accuracy: 0.8725 - val_loss: 0.2024 - val_accuracy: 0.9274\n",
      "Epoch 62/500\n",
      "113/113 [==============================] - 16s 144ms/step - loss: 0.2902 - accuracy: 0.8786 - val_loss: 0.2117 - val_accuracy: 0.9240\n",
      "Epoch 63/500\n",
      "113/113 [==============================] - 19s 169ms/step - loss: 0.2845 - accuracy: 0.8812 - val_loss: 0.2112 - val_accuracy: 0.9205\n",
      "Epoch 64/500\n",
      "113/113 [==============================] - 16s 144ms/step - loss: 0.2945 - accuracy: 0.8739 - val_loss: 0.2488 - val_accuracy: 0.9052\n",
      "Epoch 65/500\n",
      "113/113 [==============================] - 18s 163ms/step - loss: 0.2748 - accuracy: 0.8887 - val_loss: 0.2428 - val_accuracy: 0.9161\n",
      "Epoch 66/500\n",
      "113/113 [==============================] - 16s 145ms/step - loss: 0.2790 - accuracy: 0.8848 - val_loss: 0.2289 - val_accuracy: 0.9165\n",
      "Epoch 67/500\n",
      "113/113 [==============================] - 19s 166ms/step - loss: 0.2815 - accuracy: 0.8752 - val_loss: 0.2182 - val_accuracy: 0.9140\n",
      "Epoch 68/500\n",
      "113/113 [==============================] - 17s 145ms/step - loss: 0.2791 - accuracy: 0.8796 - val_loss: 0.3166 - val_accuracy: 0.8661\n",
      "Epoch 69/500\n",
      "113/113 [==============================] - 19s 172ms/step - loss: 0.2759 - accuracy: 0.8765 - val_loss: 0.2066 - val_accuracy: 0.9302\n",
      "Epoch 70/500\n",
      "113/113 [==============================] - 16s 141ms/step - loss: 0.2699 - accuracy: 0.8858 - val_loss: 0.2745 - val_accuracy: 0.8883\n",
      "Epoch 71/500\n",
      "113/113 [==============================] - 18s 157ms/step - loss: 0.2725 - accuracy: 0.8838 - val_loss: 0.2409 - val_accuracy: 0.9074\n",
      "Epoch 72/500\n",
      "113/113 [==============================] - 17s 152ms/step - loss: 0.2799 - accuracy: 0.8805 - val_loss: 0.2080 - val_accuracy: 0.9299\n",
      "Epoch 73/500\n",
      "113/113 [==============================] - 16s 139ms/step - loss: 0.2697 - accuracy: 0.8834 - val_loss: 0.2105 - val_accuracy: 0.9277\n",
      "Epoch 74/500\n",
      "113/113 [==============================] - 16s 141ms/step - loss: 0.2682 - accuracy: 0.8871 - val_loss: 0.2568 - val_accuracy: 0.9083\n",
      "Epoch 75/500\n",
      "113/113 [==============================] - 17s 153ms/step - loss: 0.2690 - accuracy: 0.8901 - val_loss: 0.2438 - val_accuracy: 0.9027\n",
      "Epoch 76/500\n",
      "113/113 [==============================] - 18s 155ms/step - loss: 0.2625 - accuracy: 0.8857 - val_loss: 0.2112 - val_accuracy: 0.9280\n",
      "Epoch 77/500\n",
      "113/113 [==============================] - 17s 149ms/step - loss: 0.2674 - accuracy: 0.8866 - val_loss: 0.2477 - val_accuracy: 0.9089\n",
      "Epoch 78/500\n",
      "113/113 [==============================] - 15s 134ms/step - loss: 0.2678 - accuracy: 0.8871 - val_loss: 0.2153 - val_accuracy: 0.9293\n"
     ]
    }
   ],
   "source": [
    "history = model.fit(X_train, y_train, \n",
    "                    epochs=500,\n",
    "                    batch_size=256, \n",
    "                    verbose=1, \n",
    "                    validation_data = (X_val, y_val),\n",
    "                   callbacks=[EarlyStop],\n",
    "                   class_weight=weights)\n",
    "\n"
   ]
  },
  {
   "cell_type": "markdown",
   "id": "851c3994",
   "metadata": {
    "papermill": {
     "duration": 2.880577,
     "end_time": "2022-03-27T16:29:27.170227",
     "exception": false,
     "start_time": "2022-03-27T16:29:24.289650",
     "status": "completed"
    },
    "tags": []
   },
   "source": [
    "We save our model and print the training history."
   ]
  },
  {
   "cell_type": "code",
   "execution_count": 12,
   "id": "2e7f279b",
   "metadata": {
    "execution": {
     "iopub.execute_input": "2022-03-27T16:29:32.744936Z",
     "iopub.status.busy": "2022-03-27T16:29:32.744352Z",
     "iopub.status.idle": "2022-03-27T16:29:35.292319Z",
     "shell.execute_reply": "2022-03-27T16:29:35.292781Z",
     "shell.execute_reply.started": "2022-03-08T00:48:00.579956Z"
    },
    "papermill": {
     "duration": 5.348583,
     "end_time": "2022-03-27T16:29:35.292939",
     "exception": false,
     "start_time": "2022-03-27T16:29:29.944356",
     "status": "completed"
    },
    "tags": []
   },
   "outputs": [
    {
     "data": {
      "image/png": "[encoded data removed]",
      "text/plain": [
       "<Figure size 432x288 with 1 Axes>"
      ]
     },
     "metadata": {
      "needs_background": "light"
     },
     "output_type": "display_data"
    },
    {
     "data": {
      "image/png": "[encoded data removed]",
      "text/plain": [
       "<Figure size 432x288 with 1 Axes>"
      ]
     },
     "metadata": {
      "needs_background": "light"
     },
     "output_type": "display_data"
    }
   ],
   "source": [
    "def print_save(model, history, name, save=True, plot=True):\n",
    "    \n",
    "    hist_df = pd.DataFrame(history.history)\n",
    "    \n",
    "    if save:\n",
    "        model.save(name)\n",
    "        hist_csv_file = name+'_history.csv'\n",
    "        with open(hist_csv_file, mode='w') as f:\n",
    "            hist_df.to_csv(f)\n",
    "    if plot:\n",
    "        hist_df[[\"loss\",'val_loss']][5:].plot()\n",
    "        hist_df[[\"accuracy\",'val_accuracy']].plot()\n",
    "        \n",
    "        \n",
    "        \n",
    "        \n",
    "print_save(model, history, 'model',save=False)"
   ]
  },
  {
   "cell_type": "markdown",
   "id": "4e65c89d",
   "metadata": {
    "papermill": {
     "duration": 2.819625,
     "end_time": "2022-03-27T16:29:41.363484",
     "exception": false,
     "start_time": "2022-03-27T16:29:38.543859",
     "status": "completed"
    },
    "tags": []
   },
   "source": [
    "Let us finally compute the performances of our model and compare it to a baseline model that always predict the target \"0\"."
   ]
  },
  {
   "cell_type": "code",
   "execution_count": 13,
   "id": "8427deb4",
   "metadata": {
    "execution": {
     "iopub.execute_input": "2022-03-27T16:29:47.259066Z",
     "iopub.status.busy": "2022-03-27T16:29:47.258161Z",
     "iopub.status.idle": "2022-03-27T16:29:48.630204Z",
     "shell.execute_reply": "2022-03-27T16:29:48.630603Z",
     "shell.execute_reply.started": "2022-03-08T00:48:00.941565Z"
    },
    "papermill": {
     "duration": 4.447733,
     "end_time": "2022-03-27T16:29:48.630755",
     "exception": false,
     "start_time": "2022-03-27T16:29:44.183022",
     "status": "completed"
    },
    "tags": []
   },
   "outputs": [
    {
     "data": {
      "text/html": [
       "<div>\n",
       "<style scoped>\n",
       "    .dataframe tbody tr th:only-of-type {\n",
       "        vertical-align: middle;\n",
       "    }\n",
       "\n",
       "    .dataframe tbody tr th {\n",
       "        vertical-align: top;\n",
       "    }\n",
       "\n",
       "    .dataframe thead th {\n",
       "        text-align: right;\n",
       "    }\n",
       "</style>\n",
       "<table border=\"1\" class=\"dataframe\">\n",
       "  <thead>\n",
       "    <tr style=\"text-align: right;\">\n",
       "      <th></th>\n",
       "      <th>accuracy</th>\n",
       "      <th>precision</th>\n",
       "      <th>TN_ratio</th>\n",
       "      <th>FN_ratio</th>\n",
       "      <th>FP_ratio</th>\n",
       "      <th>TP_ratio</th>\n",
       "    </tr>\n",
       "  </thead>\n",
       "  <tbody>\n",
       "    <tr>\n",
       "      <th>prediction</th>\n",
       "      <td>0.929287</td>\n",
       "      <td>0.494318</td>\n",
       "      <td>0.874844</td>\n",
       "      <td>0.055695</td>\n",
       "      <td>0.015019</td>\n",
       "      <td>0.054443</td>\n",
       "    </tr>\n",
       "    <tr>\n",
       "      <th>baseline</th>\n",
       "      <td>0.930538</td>\n",
       "      <td>0.000000</td>\n",
       "      <td>0.930538</td>\n",
       "      <td>0.000000</td>\n",
       "      <td>0.069462</td>\n",
       "      <td>0.000000</td>\n",
       "    </tr>\n",
       "  </tbody>\n",
       "</table>\n",
       "</div>"
      ],
      "text/plain": [
       "            accuracy  precision  TN_ratio  FN_ratio  FP_ratio  TP_ratio\n",
       "prediction  0.929287   0.494318  0.874844  0.055695  0.015019  0.054443\n",
       "baseline    0.930538   0.000000  0.930538  0.000000  0.069462  0.000000"
      ]
     },
     "execution_count": 13,
     "metadata": {},
     "output_type": "execute_result"
    }
   ],
   "source": [
    "y_hat=tf.cast(model.predict(X_val)[:,0]>0.5, tf.float32).numpy()\n",
    "y_baseline = np.ones(len(y_val))* float(y_train.mean()>0.5)\n",
    "\n",
    "\n",
    "scores= pd.DataFrame()\n",
    "for name, y in {\"prediction\" : y_hat, \"baseline\" : y_baseline}.items():\n",
    "    accuracy = tf.keras.metrics.Accuracy()(y_val, y).numpy()\n",
    "    precision = tf.keras.metrics.Precision()(y_val, y).numpy()\n",
    "    cross_table = pd.crosstab(y_val,y,margins = False, normalize = True)\n",
    "    if name == \"prediction\":\n",
    "        TN_ratio, FN_ratio, FP_ratio, TP_ratio = cross_table.iloc[0,0], cross_table.iloc[0,1], cross_table.iloc[1,0], cross_table.iloc[1,1]\n",
    "    else:\n",
    "        TN_ratio, FN_ratio, FP_ratio, TP_ratio = cross_table.iloc[0,0],0., cross_table.iloc[1,0], 0.\n",
    "    \n",
    "    score = pd.Series({\"accuracy\": accuracy, \"precision\": precision,\n",
    "              \"TN_ratio\":TN_ratio, \"FN_ratio\":FN_ratio, \n",
    "               \"FP_ratio\":FP_ratio, \"TP_ratio\":TP_ratio}, name = name)\n",
    "    scores = scores.append(score)\n",
    "    \n",
    "scores\n",
    "\n"
   ]
  }
 ],
 "metadata": {
  "kernelspec": {
   "display_name": "Python 3",
   "language": "python",
   "name": "python3"
  },
  "language_info": {
   "codemirror_mode": {
    "name": "ipython",
    "version": 3
   },
   "file_extension": ".py",
   "mimetype": "text/x-python",
   "name": "python",
   "nbconvert_exporter": "python",
   "pygments_lexer": "ipython3",
   "version": "3.7.12"
  },
  "papermill": {
   "default_parameters": {},
   "duration": 1405.13926,
   "end_time": "2022-03-27T16:29:54.353964",
   "environment_variables": {},
   "exception": null,
   "input_path": "__notebook__.ipynb",
   "output_path": "__notebook__.ipynb",
   "parameters": {},
   "start_time": "2022-03-27T16:06:29.214704",
   "version": "2.3.3"
  }
 },
 "nbformat": 4,
 "nbformat_minor": 5
}
