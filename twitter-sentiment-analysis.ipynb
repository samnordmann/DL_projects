{
 "cells": [
  {
   "cell_type": "markdown",
   "id": "94fccb74",
   "metadata": {
    "papermill": {
     "duration": 0.022395,
     "end_time": "2022-03-27T15:42:55.670525",
     "exception": false,
     "start_time": "2022-03-27T15:42:55.648130",
     "status": "completed"
    },
    "tags": []
   },
   "source": [
    "In this notebook, we propose a simple but original implementation from scratch of an text classifier on a Twitter sentiment dataset. The goal is to detect hate tweets. The dataset is composed of +16k tweets belonging to 2 different classes.\n",
    "\n",
    "\n",
    "Our model uses the glove6b embedding of words followed by a Bidirectional LSTM and Dense layers.\n",
    "The performance of our algorithm can be seen in the last cell of the notebook."
   ]
  },
  {
   "cell_type": "code",
   "execution_count": 1,
   "id": "c0489e57",
   "metadata": {
    "execution": {
     "iopub.execute_input": "2022-03-27T15:42:55.720022Z",
     "iopub.status.busy": "2022-03-27T15:42:55.718068Z",
     "iopub.status.idle": "2022-03-27T15:43:02.845578Z",
     "shell.execute_reply": "2022-03-27T15:43:02.844829Z",
     "shell.execute_reply.started": "2022-03-27T15:22:24.741022Z"
    },
    "papermill": {
     "duration": 7.152984,
     "end_time": "2022-03-27T15:43:02.845770",
     "exception": false,
     "start_time": "2022-03-27T15:42:55.692786",
     "status": "completed"
    },
    "tags": []
   },
   "outputs": [
    {
     "name": "stdout",
     "output_type": "stream",
     "text": [
      "[nltk_data] Downloading package stopwords to /usr/share/nltk_data...\n",
      "[nltk_data]   Package stopwords is already up-to-date!\n",
      "2.6.2\n"
     ]
    }
   ],
   "source": [
    "import numpy as np\n",
    "import pandas as pd\n",
    "import tensorflow as tf\n",
    "import tensorflow.keras.utils as ku \n",
    "import tensorflow_hub as hub\n",
    "\n",
    "from tensorflow.keras.models import Sequential\n",
    "from tensorflow.keras import regularizers\n",
    "from tensorflow.keras.layers import Embedding, LSTM, Dense, Dropout, Bidirectional\n",
    "from tensorflow.keras.preprocessing.text import Tokenizer\n",
    "from tensorflow.keras.preprocessing.sequence import pad_sequences\n",
    "\n",
    "from sklearn.utils import class_weight\n",
    "\n",
    "import re\n",
    "import nltk\n",
    "from nltk.stem.porter import PorterStemmer\n",
    "from nltk.corpus import stopwords\n",
    "nltk.download('stopwords')\n",
    "stop_words = set(stopwords.words('english'))\n",
    "\n",
    "\n",
    "print(tf.__version__)"
   ]
  },
  {
   "cell_type": "markdown",
   "id": "eb31e382",
   "metadata": {
    "papermill": {
     "duration": 0.017896,
     "end_time": "2022-03-27T15:43:02.882814",
     "exception": false,
     "start_time": "2022-03-27T15:43:02.864918",
     "status": "completed"
    },
    "tags": []
   },
   "source": [
    "Let us load the dataset:"
   ]
  },
  {
   "cell_type": "code",
   "execution_count": 2,
   "id": "9a8da6a4",
   "metadata": {
    "execution": {
     "iopub.execute_input": "2022-03-27T15:43:02.923222Z",
     "iopub.status.busy": "2022-03-27T15:43:02.922620Z",
     "iopub.status.idle": "2022-03-27T15:43:03.038589Z",
     "shell.execute_reply": "2022-03-27T15:43:03.037941Z",
     "shell.execute_reply.started": "2022-03-27T15:23:51.165903Z"
    },
    "papermill": {
     "duration": 0.137849,
     "end_time": "2022-03-27T15:43:03.038740",
     "exception": false,
     "start_time": "2022-03-27T15:43:02.900891",
     "status": "completed"
    },
    "tags": []
   },
   "outputs": [],
   "source": [
    "data=pd.read_csv('../input/twitter-sentiment-analysis-hatred-speech/train.csv',\n",
    "                 index_col= \"id\")"
   ]
  },
  {
   "cell_type": "markdown",
   "id": "fcee4cb4",
   "metadata": {
    "papermill": {
     "duration": 0.019768,
     "end_time": "2022-03-27T15:43:03.077458",
     "exception": false,
     "start_time": "2022-03-27T15:43:03.057690",
     "status": "completed"
    },
    "tags": []
   },
   "source": [
    "and explore the first rows:"
   ]
  },
  {
   "cell_type": "code",
   "execution_count": 3,
   "id": "97547290",
   "metadata": {
    "execution": {
     "iopub.execute_input": "2022-03-27T15:43:03.123016Z",
     "iopub.status.busy": "2022-03-27T15:43:03.122297Z",
     "iopub.status.idle": "2022-03-27T15:43:03.132534Z",
     "shell.execute_reply": "2022-03-27T15:43:03.132988Z",
     "shell.execute_reply.started": "2022-03-27T15:24:44.300541Z"
    },
    "papermill": {
     "duration": 0.036001,
     "end_time": "2022-03-27T15:43:03.133133",
     "exception": false,
     "start_time": "2022-03-27T15:43:03.097132",
     "status": "completed"
    },
    "tags": []
   },
   "outputs": [
    {
     "data": {
      "text/html": [
       "<div>\n",
       "<style scoped>\n",
       "    .dataframe tbody tr th:only-of-type {\n",
       "        vertical-align: middle;\n",
       "    }\n",
       "\n",
       "    .dataframe tbody tr th {\n",
       "        vertical-align: top;\n",
       "    }\n",
       "\n",
       "    .dataframe thead th {\n",
       "        text-align: right;\n",
       "    }\n",
       "</style>\n",
       "<table border=\"1\" class=\"dataframe\">\n",
       "  <thead>\n",
       "    <tr style=\"text-align: right;\">\n",
       "      <th></th>\n",
       "      <th>label</th>\n",
       "      <th>tweet</th>\n",
       "    </tr>\n",
       "    <tr>\n",
       "      <th>id</th>\n",
       "      <th></th>\n",
       "      <th></th>\n",
       "    </tr>\n",
       "  </thead>\n",
       "  <tbody>\n",
       "    <tr>\n",
       "      <th>1</th>\n",
       "      <td>0</td>\n",
       "      <td>@user when a father is dysfunctional and is s...</td>\n",
       "    </tr>\n",
       "    <tr>\n",
       "      <th>2</th>\n",
       "      <td>0</td>\n",
       "      <td>@user @user thanks for #lyft credit i can't us...</td>\n",
       "    </tr>\n",
       "    <tr>\n",
       "      <th>3</th>\n",
       "      <td>0</td>\n",
       "      <td>bihday your majesty</td>\n",
       "    </tr>\n",
       "    <tr>\n",
       "      <th>4</th>\n",
       "      <td>0</td>\n",
       "      <td>#model   i love u take with u all the time in ...</td>\n",
       "    </tr>\n",
       "    <tr>\n",
       "      <th>5</th>\n",
       "      <td>0</td>\n",
       "      <td>factsguide: society now    #motivation</td>\n",
       "    </tr>\n",
       "  </tbody>\n",
       "</table>\n",
       "</div>"
      ],
      "text/plain": [
       "    label                                              tweet\n",
       "id                                                          \n",
       "1       0   @user when a father is dysfunctional and is s...\n",
       "2       0  @user @user thanks for #lyft credit i can't us...\n",
       "3       0                                bihday your majesty\n",
       "4       0  #model   i love u take with u all the time in ...\n",
       "5       0             factsguide: society now    #motivation"
      ]
     },
     "execution_count": 3,
     "metadata": {},
     "output_type": "execute_result"
    }
   ],
   "source": [
    "data.head()"
   ]
  },
  {
   "cell_type": "markdown",
   "id": "fba345dd",
   "metadata": {
    "papermill": {
     "duration": 0.019312,
     "end_time": "2022-03-27T15:43:03.174427",
     "exception": false,
     "start_time": "2022-03-27T15:43:03.155115",
     "status": "completed"
    },
    "tags": []
   },
   "source": [
    "Let us proceed to a simple pre processing of the tweets by stemming, removing stop words and abbreviations."
   ]
  },
  {
   "cell_type": "code",
   "execution_count": 4,
   "id": "1474ecb9",
   "metadata": {
    "execution": {
     "iopub.execute_input": "2022-03-27T15:43:03.227133Z",
     "iopub.status.busy": "2022-03-27T15:43:03.226219Z",
     "iopub.status.idle": "2022-03-27T15:43:12.375757Z",
     "shell.execute_reply": "2022-03-27T15:43:12.374718Z",
     "shell.execute_reply.started": "2022-03-27T15:34:58.215103Z"
    },
    "papermill": {
     "duration": 9.182617,
     "end_time": "2022-03-27T15:43:12.375914",
     "exception": false,
     "start_time": "2022-03-27T15:43:03.193297",
     "status": "completed"
    },
    "tags": []
   },
   "outputs": [],
   "source": [
    "# This preprocessing is inspired from the notebook https://www.kaggle.com/rashmimanwani/twitter-sentiment-analysis-bidirectional-lstm\n",
    "import re\n",
    "def clean_text(text):\n",
    "    text = text.lower()\n",
    "    text = re.sub(r\"#\", \" \", text)\n",
    "    text = re.sub(r\"what's\", \"what is \", text)\n",
    "    text = re.sub(r\"\\'s\", \" \", text)\n",
    "    text = re.sub(r\"\\'ve\", \" have \", text)\n",
    "    text = re.sub(r\"can't\", \"can not \", text)\n",
    "    text = re.sub(r\"n't\", \" not \", text)\n",
    "    text = re.sub(r\"i'm\", \"i am \", text)\n",
    "    text = re.sub(r\"\\'re\", \" are \", text)\n",
    "    text = re.sub(r\"\\'d\", \" would \", text)\n",
    "    text = re.sub(r\"\\'ll\", \" will \", text)\n",
    "    text = re.sub(r\"\\'scuse\", \" excuse \", text)\n",
    "    text = re.sub('\\W', ' ', text)\n",
    "    text = re.sub('\\s+', ' ', text)\n",
    "    text = re.sub('[^A-Za-z0-9]+', ' ', text)\n",
    "    text = text.strip(' ')\n",
    "    return text\n",
    "\n",
    "data['tweet'] = data['tweet'].map(lambda t: clean_text(t))\n",
    "\n",
    "\n",
    "    \n",
    "stemmer=PorterStemmer()\n",
    "def stem_remove_sw(df,text_col):\n",
    "    corpus = []\n",
    "    for i in range(len(df)):\n",
    "        review = str(df[text_col][i+1])\n",
    "        review = review.split()\n",
    "        review = [stemmer.stem(word) for word in review if word not in stop_words]\n",
    "        review = \" \".join(review)\n",
    "        corpus.append(review)\n",
    "    return corpus\n",
    "\n",
    "Tweets = stem_remove_sw(data, 'tweet')\n",
    "y=data.label"
   ]
  },
  {
   "cell_type": "markdown",
   "id": "3b81daa4",
   "metadata": {
    "papermill": {
     "duration": 0.018803,
     "end_time": "2022-03-27T15:43:12.416130",
     "exception": false,
     "start_time": "2022-03-27T15:43:12.397327",
     "status": "completed"
    },
    "tags": []
   },
   "source": [
    "We now split the dataset into train and validation datasets:"
   ]
  },
  {
   "cell_type": "code",
   "execution_count": 5,
   "id": "cc1d0519",
   "metadata": {
    "execution": {
     "iopub.execute_input": "2022-03-27T15:43:12.460433Z",
     "iopub.status.busy": "2022-03-27T15:43:12.459601Z",
     "iopub.status.idle": "2022-03-27T15:43:12.462008Z",
     "shell.execute_reply": "2022-03-27T15:43:12.461605Z",
     "shell.execute_reply.started": "2022-03-27T15:35:16.404797Z"
    },
    "papermill": {
     "duration": 0.026563,
     "end_time": "2022-03-27T15:43:12.462119",
     "exception": false,
     "start_time": "2022-03-27T15:43:12.435556",
     "status": "completed"
    },
    "tags": []
   },
   "outputs": [],
   "source": [
    "# We divide the dataset into train and validation datasets\n",
    "split = 0.1\n",
    "i_split = int(len(Tweets)*split)\n",
    "Tweets_val = Tweets[:i_split]\n",
    "y_val = y[:i_split]\n",
    "Tweets_train = Tweets[i_split:]\n",
    "y_train = y[i_split:]\n"
   ]
  },
  {
   "cell_type": "markdown",
   "id": "c630ac77",
   "metadata": {
    "papermill": {
     "duration": 0.018244,
     "end_time": "2022-03-27T15:43:12.499024",
     "exception": false,
     "start_time": "2022-03-27T15:43:12.480780",
     "status": "completed"
    },
    "tags": []
   },
   "source": [
    "Let us format the input data by tokenizing the words and padding the sequences to a fixed length"
   ]
  },
  {
   "cell_type": "code",
   "execution_count": 6,
   "id": "852a95b0",
   "metadata": {
    "execution": {
     "iopub.execute_input": "2022-03-27T15:43:12.585187Z",
     "iopub.status.busy": "2022-03-27T15:43:12.569799Z",
     "iopub.status.idle": "2022-03-27T15:43:13.467955Z",
     "shell.execute_reply": "2022-03-27T15:43:13.468451Z",
     "shell.execute_reply.started": "2022-03-27T15:36:09.414640Z"
    },
    "papermill": {
     "duration": 0.950771,
     "end_time": "2022-03-27T15:43:13.468600",
     "exception": false,
     "start_time": "2022-03-27T15:43:12.517829",
     "status": "completed"
    },
    "tags": []
   },
   "outputs": [
    {
     "name": "stdout",
     "output_type": "stream",
     "text": [
      "30732\n",
      "(28766, 38)\n"
     ]
    }
   ],
   "source": [
    "#We use a Tokenizer to transform each tweet in a sequence of token integers.\n",
    "tokenizer = Tokenizer()\n",
    "tokenizer.fit_on_texts(Tweets_train)\n",
    "X = tokenizer.texts_to_sequences(Tweets)\n",
    "total_words = len(tokenizer.word_index) + 1\n",
    "word_index = tokenizer.word_index\n",
    "\n",
    "\n",
    "# We pad the sequences to match the maximal sequence length of the training set\n",
    "max_sequence_len = max([len(x) for x in X[i_split:]])\n",
    "X = np.array(pad_sequences(X, maxlen=max_sequence_len, padding='pre'))\n",
    "\n",
    "#We divide X between training and validation sets\n",
    "X_val = X[:i_split]\n",
    "X_train = X[i_split:]\n",
    "\n",
    "print(total_words)\n",
    "print(X_train.shape)"
   ]
  },
  {
   "cell_type": "markdown",
   "id": "cc27d78b",
   "metadata": {
    "papermill": {
     "duration": 0.018726,
     "end_time": "2022-03-27T15:43:13.506292",
     "exception": false,
     "start_time": "2022-03-27T15:43:13.487566",
     "status": "completed"
    },
    "tags": []
   },
   "source": [
    "Now, we import the Glove word embedding as a matrix"
   ]
  },
  {
   "cell_type": "code",
   "execution_count": 7,
   "id": "099ad9ce",
   "metadata": {
    "execution": {
     "iopub.execute_input": "2022-03-27T15:43:13.547423Z",
     "iopub.status.busy": "2022-03-27T15:43:13.546620Z",
     "iopub.status.idle": "2022-03-27T15:43:25.544860Z",
     "shell.execute_reply": "2022-03-27T15:43:25.544326Z",
     "shell.execute_reply.started": "2022-03-27T15:37:02.272710Z"
    },
    "papermill": {
     "duration": 12.019625,
     "end_time": "2022-03-27T15:43:25.544998",
     "exception": false,
     "start_time": "2022-03-27T15:43:13.525373",
     "status": "completed"
    },
    "tags": []
   },
   "outputs": [],
   "source": [
    "embeddings_index = {};\n",
    "with open('../input/glove6b100dtxt/glove.6B.100d.txt') as f:\n",
    "    for line in f:\n",
    "        values = line.split();\n",
    "        word = values[0];\n",
    "        coefs = np.asarray(values[1:], dtype='float32');\n",
    "        embeddings_index[word] = coefs;\n",
    "\n",
    "embeddings_matrix = np.zeros((total_words, 100));\n",
    "for word, i in word_index.items():\n",
    "    embedding_vector = embeddings_index.get(word);\n",
    "    if embedding_vector is not None:\n",
    "        embeddings_matrix[i] = embedding_vector;"
   ]
  },
  {
   "cell_type": "markdown",
   "id": "45291e82",
   "metadata": {
    "papermill": {
     "duration": 0.020037,
     "end_time": "2022-03-27T15:43:25.585288",
     "exception": false,
     "start_time": "2022-03-27T15:43:25.565251",
     "status": "completed"
    },
    "tags": []
   },
   "source": [
    "Let us now build our model, composed of the Glove embedding, followed by a BiLSTM and Dense layers. We include Dropout and L2 regularizers. The final layer is a sigmoid because this is a binary classifcation task."
   ]
  },
  {
   "cell_type": "code",
   "execution_count": 8,
   "id": "e182380e",
   "metadata": {
    "execution": {
     "iopub.execute_input": "2022-03-27T15:43:25.632718Z",
     "iopub.status.busy": "2022-03-27T15:43:25.631785Z",
     "iopub.status.idle": "2022-03-27T15:43:28.536990Z",
     "shell.execute_reply": "2022-03-27T15:43:28.537513Z",
     "shell.execute_reply.started": "2022-03-27T15:37:41.655826Z"
    },
    "papermill": {
     "duration": 2.932994,
     "end_time": "2022-03-27T15:43:28.537676",
     "exception": false,
     "start_time": "2022-03-27T15:43:25.604682",
     "status": "completed"
    },
    "tags": []
   },
   "outputs": [
    {
     "name": "stderr",
     "output_type": "stream",
     "text": [
      "2022-03-27 15:43:25.713368: I tensorflow/stream_executor/cuda/cuda_gpu_executor.cc:937] successful NUMA node read from SysFS had negative value (-1), but there must be at least one NUMA node, so returning NUMA node zero\n",
      "2022-03-27 15:43:25.824954: I tensorflow/stream_executor/cuda/cuda_gpu_executor.cc:937] successful NUMA node read from SysFS had negative value (-1), but there must be at least one NUMA node, so returning NUMA node zero\n",
      "2022-03-27 15:43:25.825769: I tensorflow/stream_executor/cuda/cuda_gpu_executor.cc:937] successful NUMA node read from SysFS had negative value (-1), but there must be at least one NUMA node, so returning NUMA node zero\n",
      "2022-03-27 15:43:25.826983: I tensorflow/core/platform/cpu_feature_guard.cc:142] This TensorFlow binary is optimized with oneAPI Deep Neural Network Library (oneDNN) to use the following CPU instructions in performance-critical operations:  AVX2 AVX512F FMA\n",
      "To enable them in other operations, rebuild TensorFlow with the appropriate compiler flags.\n",
      "2022-03-27 15:43:25.828144: I tensorflow/stream_executor/cuda/cuda_gpu_executor.cc:937] successful NUMA node read from SysFS had negative value (-1), but there must be at least one NUMA node, so returning NUMA node zero\n",
      "2022-03-27 15:43:25.828830: I tensorflow/stream_executor/cuda/cuda_gpu_executor.cc:937] successful NUMA node read from SysFS had negative value (-1), but there must be at least one NUMA node, so returning NUMA node zero\n",
      "2022-03-27 15:43:25.829478: I tensorflow/stream_executor/cuda/cuda_gpu_executor.cc:937] successful NUMA node read from SysFS had negative value (-1), but there must be at least one NUMA node, so returning NUMA node zero\n",
      "2022-03-27 15:43:27.748938: I tensorflow/stream_executor/cuda/cuda_gpu_executor.cc:937] successful NUMA node read from SysFS had negative value (-1), but there must be at least one NUMA node, so returning NUMA node zero\n",
      "2022-03-27 15:43:27.749845: I tensorflow/stream_executor/cuda/cuda_gpu_executor.cc:937] successful NUMA node read from SysFS had negative value (-1), but there must be at least one NUMA node, so returning NUMA node zero\n",
      "2022-03-27 15:43:27.750519: I tensorflow/stream_executor/cuda/cuda_gpu_executor.cc:937] successful NUMA node read from SysFS had negative value (-1), but there must be at least one NUMA node, so returning NUMA node zero\n",
      "2022-03-27 15:43:27.751090: I tensorflow/core/common_runtime/gpu/gpu_device.cc:1510] Created device /job:localhost/replica:0/task:0/device:GPU:0 with 15403 MB memory:  -> device: 0, name: Tesla P100-PCIE-16GB, pci bus id: 0000:00:04.0, compute capability: 6.0\n"
     ]
    },
    {
     "name": "stdout",
     "output_type": "stream",
     "text": [
      "Model: \"sequential\"\n",
      "_________________________________________________________________\n",
      "Layer (type)                 Output Shape              Param #   \n",
      "=================================================================\n",
      "embedding (Embedding)        (None, 38, 100)           3073200   \n",
      "_________________________________________________________________\n",
      "dropout (Dropout)            (None, 38, 100)           0         \n",
      "_________________________________________________________________\n",
      "bidirectional (Bidirectional (None, 256)               234496    \n",
      "_________________________________________________________________\n",
      "dropout_1 (Dropout)          (None, 256)               0         \n",
      "_________________________________________________________________\n",
      "dense (Dense)                (None, 512)               131584    \n",
      "_________________________________________________________________\n",
      "dropout_2 (Dropout)          (None, 512)               0         \n",
      "_________________________________________________________________\n",
      "dense_1 (Dense)              (None, 256)               131328    \n",
      "_________________________________________________________________\n",
      "dropout_3 (Dropout)          (None, 256)               0         \n",
      "_________________________________________________________________\n",
      "dense_2 (Dense)              (None, 128)               32896     \n",
      "_________________________________________________________________\n",
      "dropout_4 (Dropout)          (None, 128)               0         \n",
      "_________________________________________________________________\n",
      "dense_3 (Dense)              (None, 64)                8256      \n",
      "_________________________________________________________________\n",
      "dropout_5 (Dropout)          (None, 64)                0         \n",
      "_________________________________________________________________\n",
      "dense_4 (Dense)              (None, 1)                 65        \n",
      "=================================================================\n",
      "Total params: 3,611,825\n",
      "Trainable params: 538,625\n",
      "Non-trainable params: 3,073,200\n",
      "_________________________________________________________________\n"
     ]
    }
   ],
   "source": [
    "model = Sequential([\n",
    "    Embedding(total_words, 100, input_length=max_sequence_len, weights=[embeddings_matrix], trainable=False),\n",
    "    Dropout(0.2),\n",
    "    Bidirectional(LSTM(128, return_sequences = False,\n",
    "                       activation=\"relu\",\n",
    "                       kernel_regularizer=regularizers.l2(0.01))),\n",
    "    Dropout(0.2),\n",
    "    Dense(512, activation='relu', kernel_regularizer=regularizers.l2(0.01)),\n",
    "    Dropout(0.2),\n",
    "    Dense(256, activation='relu', kernel_regularizer=regularizers.l2(0.01)),\n",
    "    Dropout(0.2),\n",
    "    Dense(128, activation='relu', kernel_regularizer=regularizers.l2(0.01)),\n",
    "    Dropout(0.2),\n",
    "    Dense(64, activation='relu', kernel_regularizer=regularizers.l2(0.01)),\n",
    "    Dropout(0.2),\n",
    "    Dense(1, activation='sigmoid'),\n",
    "    ])\n",
    "\n",
    "model.compile(loss='binary_crossentropy', \n",
    "              optimizer=tf.keras.optimizers.Adam(learning_rate=0.0001), \n",
    "              metrics=['accuracy'])\n",
    "\n",
    "model.summary()"
   ]
  },
  {
   "cell_type": "markdown",
   "id": "8a8b57c0",
   "metadata": {
    "papermill": {
     "duration": 0.019599,
     "end_time": "2022-03-27T15:43:28.578145",
     "exception": false,
     "start_time": "2022-03-27T15:43:28.558546",
     "status": "completed"
    },
    "tags": []
   },
   "source": [
    "The dataset is imbalanced because it contains much more examples targeted as 0. A good practice is therefore to weight the loss accordingly, so that we will give more importance to the examples targeted as 1 to compensate their sparsity."
   ]
  },
  {
   "cell_type": "code",
   "execution_count": 9,
   "id": "26393968",
   "metadata": {
    "execution": {
     "iopub.execute_input": "2022-03-27T15:43:28.622506Z",
     "iopub.status.busy": "2022-03-27T15:43:28.621785Z",
     "iopub.status.idle": "2022-03-27T15:43:28.629482Z",
     "shell.execute_reply": "2022-03-27T15:43:28.629041Z",
     "shell.execute_reply.started": "2022-03-27T15:39:57.122797Z"
    },
    "papermill": {
     "duration": 0.031786,
     "end_time": "2022-03-27T15:43:28.629597",
     "exception": false,
     "start_time": "2022-03-27T15:43:28.597811",
     "status": "completed"
    },
    "tags": []
   },
   "outputs": [],
   "source": [
    "# Calculate the weights for each class so that we can balance the data\n",
    "weights = class_weight.compute_class_weight('balanced',\n",
    "                                            classes = np.unique(y_train),\n",
    "                                            y = y_train)\n",
    "weights= {key: value for key,value in enumerate(weights)}"
   ]
  },
  {
   "cell_type": "markdown",
   "id": "06d8408a",
   "metadata": {
    "papermill": {
     "duration": 0.019423,
     "end_time": "2022-03-27T15:43:28.668793",
     "exception": false,
     "start_time": "2022-03-27T15:43:28.649370",
     "status": "completed"
    },
    "tags": []
   },
   "source": [
    "We use an EarlyStopping callback during training:"
   ]
  },
  {
   "cell_type": "code",
   "execution_count": 10,
   "id": "71b4a90d",
   "metadata": {
    "execution": {
     "iopub.execute_input": "2022-03-27T15:43:28.714255Z",
     "iopub.status.busy": "2022-03-27T15:43:28.713344Z",
     "iopub.status.idle": "2022-03-27T15:43:28.715778Z",
     "shell.execute_reply": "2022-03-27T15:43:28.715224Z",
     "shell.execute_reply.started": "2022-03-27T15:40:23.794770Z"
    },
    "papermill": {
     "duration": 0.027119,
     "end_time": "2022-03-27T15:43:28.715891",
     "exception": false,
     "start_time": "2022-03-27T15:43:28.688772",
     "status": "completed"
    },
    "tags": []
   },
   "outputs": [],
   "source": [
    "EarlyStop = tf.keras.callbacks.EarlyStopping(monitor=\"val_loss\",min_delta=0,patience=20)"
   ]
  },
  {
   "cell_type": "markdown",
   "id": "589afeea",
   "metadata": {
    "execution": {
     "iopub.execute_input": "2022-03-27T15:40:31.827042Z",
     "iopub.status.busy": "2022-03-27T15:40:31.826652Z",
     "iopub.status.idle": "2022-03-27T15:40:31.831787Z",
     "shell.execute_reply": "2022-03-27T15:40:31.830589Z",
     "shell.execute_reply.started": "2022-03-27T15:40:31.827013Z"
    },
    "papermill": {
     "duration": 0.020256,
     "end_time": "2022-03-27T15:43:28.757103",
     "exception": false,
     "start_time": "2022-03-27T15:43:28.736847",
     "status": "completed"
    },
    "tags": []
   },
   "source": [
    "Let us train our model:"
   ]
  },
  {
   "cell_type": "code",
   "execution_count": 11,
   "id": "32d7bc3b",
   "metadata": {
    "execution": {
     "iopub.execute_input": "2022-03-27T15:43:28.803291Z",
     "iopub.status.busy": "2022-03-27T15:43:28.802473Z",
     "iopub.status.idle": "2022-03-27T15:43:51.806836Z",
     "shell.execute_reply": "2022-03-27T15:43:51.806283Z",
     "shell.execute_reply.started": "2022-03-08T00:47:25.448091Z"
    },
    "papermill": {
     "duration": 23.029703,
     "end_time": "2022-03-27T15:43:51.806975",
     "exception": false,
     "start_time": "2022-03-27T15:43:28.777272",
     "status": "completed"
    },
    "tags": []
   },
   "outputs": [
    {
     "name": "stderr",
     "output_type": "stream",
     "text": [
      "2022-03-27 15:43:28.862039: I tensorflow/compiler/mlir/mlir_graph_optimization_pass.cc:185] None of the MLIR Optimization Passes are enabled (registered 2)\n"
     ]
    },
    {
     "name": "stdout",
     "output_type": "stream",
     "text": [
      "113/113 [==============================] - 20s 146ms/step - loss: 11.4947 - accuracy: 0.2577 - val_loss: 9.7041 - val_accuracy: 0.7431\n"
     ]
    }
   ],
   "source": [
    "history = model.fit(X_train, y_train, \n",
    "                    epochs=1,\n",
    "                    batch_size=256, \n",
    "                    verbose=1, \n",
    "                    validation_data = (X_val, y_val),\n",
    "                   callbacks=[EarlyStop],\n",
    "                   class_weight=weights)\n",
    "\n"
   ]
  },
  {
   "cell_type": "markdown",
   "id": "67567cec",
   "metadata": {
    "papermill": {
     "duration": 0.055248,
     "end_time": "2022-03-27T15:43:51.918525",
     "exception": false,
     "start_time": "2022-03-27T15:43:51.863277",
     "status": "completed"
    },
    "tags": []
   },
   "source": [
    "We save our model and print the training history."
   ]
  },
  {
   "cell_type": "code",
   "execution_count": 12,
   "id": "a70d22cb",
   "metadata": {
    "execution": {
     "iopub.execute_input": "2022-03-27T15:43:52.039085Z",
     "iopub.status.busy": "2022-03-27T15:43:52.038436Z",
     "iopub.status.idle": "2022-03-27T15:43:52.551841Z",
     "shell.execute_reply": "2022-03-27T15:43:52.552798Z",
     "shell.execute_reply.started": "2022-03-08T00:48:00.579956Z"
    },
    "papermill": {
     "duration": 0.579391,
     "end_time": "2022-03-27T15:43:52.553006",
     "exception": false,
     "start_time": "2022-03-27T15:43:51.973615",
     "status": "completed"
    },
    "tags": []
   },
   "outputs": [
    {
     "data": {
      "image/png": "[encoded data removed]",
      "text/plain": [
       "<Figure size 432x288 with 1 Axes>"
      ]
     },
     "metadata": {
      "needs_background": "light"
     },
     "output_type": "display_data"
    },
    {
     "data": {
      "image/png": "[encoded data removed]",
      "text/plain": [
       "<Figure size 432x288 with 1 Axes>"
      ]
     },
     "metadata": {
      "needs_background": "light"
     },
     "output_type": "display_data"
    }
   ],
   "source": [
    "def print_save(model, history, name, save=True, plot=True):\n",
    "    \n",
    "    hist_df = pd.DataFrame(history.history)\n",
    "    \n",
    "    if save:\n",
    "        model.save(name)\n",
    "        hist_csv_file = name+'_history.csv'\n",
    "        with open(hist_csv_file, mode='w') as f:\n",
    "            hist_df.to_csv(f)\n",
    "    if plot:\n",
    "        hist_df[[\"loss\",'val_loss']][5:].plot()\n",
    "        hist_df[[\"accuracy\",'val_accuracy']].plot()\n",
    "        \n",
    "        \n",
    "        \n",
    "        \n",
    "print_save(model, history, 'model',save=False)"
   ]
  },
  {
   "cell_type": "markdown",
   "id": "385c37f2",
   "metadata": {
    "papermill": {
     "duration": 0.086018,
     "end_time": "2022-03-27T15:43:52.734126",
     "exception": false,
     "start_time": "2022-03-27T15:43:52.648108",
     "status": "completed"
    },
    "tags": []
   },
   "source": [
    "Let us finally compute the performances of our model and compare it to a baseline model that always predict the target \"0\"."
   ]
  },
  {
   "cell_type": "code",
   "execution_count": 13,
   "id": "72cccedc",
   "metadata": {
    "execution": {
     "iopub.execute_input": "2022-03-27T15:43:52.860882Z",
     "iopub.status.busy": "2022-03-27T15:43:52.859980Z",
     "iopub.status.idle": "2022-03-27T15:43:54.183230Z",
     "shell.execute_reply": "2022-03-27T15:43:54.183663Z",
     "shell.execute_reply.started": "2022-03-08T00:48:00.941565Z"
    },
    "papermill": {
     "duration": 1.39247,
     "end_time": "2022-03-27T15:43:54.183824",
     "exception": false,
     "start_time": "2022-03-27T15:43:52.791354",
     "status": "completed"
    },
    "tags": []
   },
   "outputs": [
    {
     "data": {
      "text/html": [
       "<div>\n",
       "<style scoped>\n",
       "    .dataframe tbody tr th:only-of-type {\n",
       "        vertical-align: middle;\n",
       "    }\n",
       "\n",
       "    .dataframe tbody tr th {\n",
       "        vertical-align: top;\n",
       "    }\n",
       "\n",
       "    .dataframe thead th {\n",
       "        text-align: right;\n",
       "    }\n",
       "</style>\n",
       "<table border=\"1\" class=\"dataframe\">\n",
       "  <thead>\n",
       "    <tr style=\"text-align: right;\">\n",
       "      <th></th>\n",
       "      <th>accuracy</th>\n",
       "      <th>precision</th>\n",
       "      <th>TN_ratio</th>\n",
       "      <th>FN_ratio</th>\n",
       "      <th>FP_ratio</th>\n",
       "      <th>TP_ratio</th>\n",
       "    </tr>\n",
       "  </thead>\n",
       "  <tbody>\n",
       "    <tr>\n",
       "      <th>prediction</th>\n",
       "      <td>0.743116</td>\n",
       "      <td>0.152955</td>\n",
       "      <td>0.701815</td>\n",
       "      <td>0.228723</td>\n",
       "      <td>0.028160</td>\n",
       "      <td>0.041302</td>\n",
       "    </tr>\n",
       "    <tr>\n",
       "      <th>baseline</th>\n",
       "      <td>0.930538</td>\n",
       "      <td>0.000000</td>\n",
       "      <td>0.930538</td>\n",
       "      <td>0.000000</td>\n",
       "      <td>0.069462</td>\n",
       "      <td>0.000000</td>\n",
       "    </tr>\n",
       "  </tbody>\n",
       "</table>\n",
       "</div>"
      ],
      "text/plain": [
       "            accuracy  precision  TN_ratio  FN_ratio  FP_ratio  TP_ratio\n",
       "prediction  0.743116   0.152955  0.701815  0.228723  0.028160  0.041302\n",
       "baseline    0.930538   0.000000  0.930538  0.000000  0.069462  0.000000"
      ]
     },
     "execution_count": 13,
     "metadata": {},
     "output_type": "execute_result"
    }
   ],
   "source": [
    "y_hat=tf.cast(model.predict(X_val)[:,0]>0.5, tf.float32).numpy()\n",
    "y_baseline = np.ones(len(y_val))* float(y_train.mean()>0.5)\n",
    "\n",
    "\n",
    "scores= pd.DataFrame()\n",
    "for name, y in {\"prediction\" : y_hat, \"baseline\" : y_baseline}.items():\n",
    "    accuracy = tf.keras.metrics.Accuracy()(y_val, y).numpy()\n",
    "    precision = tf.keras.metrics.Precision()(y_val, y).numpy()\n",
    "    cross_table = pd.crosstab(y_val,y,margins = False, normalize = True)\n",
    "    if name == \"prediction\":\n",
    "        TN_ratio, FN_ratio, FP_ratio, TP_ratio = cross_table.iloc[0,0], cross_table.iloc[0,1], cross_table.iloc[1,0], cross_table.iloc[1,1]\n",
    "    else:\n",
    "        TN_ratio, FN_ratio, FP_ratio, TP_ratio = cross_table.iloc[0,0],0., cross_table.iloc[1,0], 0.\n",
    "    \n",
    "    score = pd.Series({\"accuracy\": accuracy, \"precision\": precision,\n",
    "              \"TN_ratio\":TN_ratio, \"FN_ratio\":FN_ratio, \n",
    "               \"FP_ratio\":FP_ratio, \"TP_ratio\":TP_ratio}, name = name)\n",
    "    scores = scores.append(score)\n",
    "    \n",
    "scores\n",
    "\n"
   ]
  }
 ],
 "metadata": {
  "kernelspec": {
   "display_name": "Python 3",
   "language": "python",
   "name": "python3"
  },
  "language_info": {
   "codemirror_mode": {
    "name": "ipython",
    "version": 3
   },
   "file_extension": ".py",
   "mimetype": "text/x-python",
   "name": "python",
   "nbconvert_exporter": "python",
   "pygments_lexer": "ipython3",
   "version": "3.7.12"
  },
  "papermill": {
   "default_parameters": {},
   "duration": 70.404393,
   "end_time": "2022-03-27T15:43:57.823439",
   "environment_variables": {},
   "exception": null,
   "input_path": "__notebook__.ipynb",
   "output_path": "__notebook__.ipynb",
   "parameters": {},
   "start_time": "2022-03-27T15:42:47.419046",
   "version": "2.3.3"
  }
 },
 "nbformat": 4,
 "nbformat_minor": 5
}
